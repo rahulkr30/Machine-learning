{
 "cells": [
  {
   "attachments": {},
   "cell_type": "markdown",
   "metadata": {},
   "source": [
    "### <i> `Interpetaion of (X.TX)^-1 and why itution is important let's discuss in this` "
   ]
  },
  {
   "attachments": {},
   "cell_type": "markdown",
   "metadata": {},
   "source": [
    "let's consider a small example with two predictors: X₁ and X₂.\n",
    "\n",
    "Assume we have the following design matrix X:\n",
    "\n",
    "\n",
    "$X = [\n",
    "    [1, 2],\n",
    "    [3, 4],\n",
    "    [5, 6],\n",
    "    [7, 8]\n",
    "]$\n",
    "\n",
    "To obtain the XᵀX matrix, we transpose X and multiply it by itself:\n",
    "\n",
    "\n",
    "XᵀX = Xᵀ * X\n",
    "\n",
    "$Xᵀ = [\n",
    "    [1, 3, 5, 7],\n",
    "    [2, 4, 6, 8]\n",
    "]$\n",
    "\n",
    "$XᵀX = [\n",
    "    [1, 3, 5, 7],\n",
    "    [2, 4, 6, 8]\n",
    "] * [\n",
    "    [1, 2],\n",
    "    [3, 4],\n",
    "    [5, 6],\n",
    "    [7, 8]\n",
    "]$\n",
    "\n",
    "$ XᵀX = [\n",
    "    [1+9+25+49, 2+12+30+56],\n",
    "    [2+12+30+56, 4+16+36+64]\n",
    "] $\n",
    "\n",
    "$ XᵀX = [\n",
    "    [84, 200],\n",
    "    [200, 480]\n",
    "]$"
   ]
  },
  {
   "attachments": {},
   "cell_type": "markdown",
   "metadata": {},
   "source": [
    "Now, let's interpret the XᵀX matrix and discuss the impact of multicollinearity:\n",
    "\n",
    "<b> `Interpretation of XᵀX:`\n",
    "\n",
    "- The XᵀX matrix is a square matrix with dimensions p x p, where p is the number of predictors (in this case, p = 2).\n",
    "- The elements of XᵀX represent the inner products or dot products between the columns of X.\n",
    "- The diagonal elements of XᵀX (e.g., XᵀX[1, 1] = 84) represent the sum of squared values for each predictor individually.\n",
    "- The off-diagonal elements of XᵀX (e.g., XᵀX[1, 2] = XᵀX[2, 1] = 200) represent the cross-products or covariances between the predictors.\n",
    "\n",
    "<b>`Impact of Multicollinearity:`\n",
    "\n",
    "- In the presence of multicollinearity, the off-diagonal elements of XᵀX can be large, indicating high correlation between predictors.\n",
    "- High off-diagonal values suggest that the predictors share redundant information, leading to instability in the coefficient estimates.\n",
    "- Multicollinearity can make the matrix XᵀX ill-conditioned, making it difficult to compute the inverse and obtain reliable coefficient estimates in ordinary least squares (OLS) regression.\n",
    "Ridge regression addresses multicollinearity by adding lambda * I to the diagonal elements of XᵀX, making the matrix more well-conditioned and stabilizing the coefficient estimates.\n",
    "\n",
    " > In summary, the XᵀX matrix represents the inner products and covariances between predictors in ridge regression. The diagonal elements represent the sum of squared values for each predictor, while the off-diagonal elements represent the cross-products or covariances between predictors. Multicollinearity, indicated by large off-diagonal values, can lead to instability in the coefficient estimates, but ridge regression with regularization helps mitigate this issue by adjusting the diagonal elements and improving the stability of the model."
   ]
  },
  {
   "cell_type": "code",
   "execution_count": 1,
   "metadata": {},
   "outputs": [
    {
     "name": "stdout",
     "output_type": "stream",
     "text": [
      "XᵀX is not invertible (ill-conditioned) without regularization\n",
      "Inverse of XᵀX with regularization:\n",
      " [[ 8.00285307 -3.99429387]\n",
      " [-3.99429387  2.01141227]]\n"
     ]
    }
   ],
   "source": [
    "import numpy as np\n",
    "\n",
    "\n",
    "X = np.array([\n",
    "    [1, 2],\n",
    "    [2, 4],\n",
    "    [3, 6]\n",
    "])\n",
    "\n",
    "# Compute XᵀX without regularization\n",
    "XtX = np.dot(X.T, X)\n",
    "\n",
    "# Attempt to compute the inverse of XᵀX without regularization\n",
    "try:\n",
    "    XtX_inv = np.linalg.inv(XtX)\n",
    "    print(\"Inverse of XᵀX without regularization:\\n\", XtX_inv)\n",
    "except np.linalg.LinAlgError:\n",
    "    print(\"XᵀX is not invertible (ill-conditioned) without regularization\")\n",
    "\n",
    "# Add regularization term to XᵀX\n",
    "lambda_value = 0.1\n",
    "XtX_reg = XtX + lambda_value * np.identity(XtX.shape[0])\n",
    "\n",
    "# regularization\n",
    "XtX_reg_inv = np.linalg.inv(XtX_reg)\n",
    "print(\"Inverse of XᵀX with regularization:\\n\", XtX_reg_inv)\n"
   ]
  },
  {
   "cell_type": "code",
   "execution_count": null,
   "metadata": {},
   "outputs": [],
   "source": [
    "#var(beta)=var((xtx)^-1xTy)"
   ]
  }
 ],
 "metadata": {
  "kernelspec": {
   "display_name": "Python 3",
   "language": "python",
   "name": "python3"
  },
  "language_info": {
   "codemirror_mode": {
    "name": "ipython",
    "version": 3
   },
   "file_extension": ".py",
   "mimetype": "text/x-python",
   "name": "python",
   "nbconvert_exporter": "python",
   "pygments_lexer": "ipython3",
   "version": "3.10.7"
  },
  "orig_nbformat": 4
 },
 "nbformat": 4,
 "nbformat_minor": 2
}
