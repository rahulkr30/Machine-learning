{
 "cells": [
  {
   "cell_type": "code",
   "execution_count": 29,
   "metadata": {},
   "outputs": [],
   "source": [
    "import pandas as pd\n",
    "import numpy as np \n",
    "import statsmodels.api as sm\n",
    "import scipy.stats as stats"
   ]
  },
  {
   "cell_type": "code",
   "execution_count": 2,
   "metadata": {},
   "outputs": [],
   "source": [
    "url=url = \"https://raw.githubusercontent.com/justmarkham/scikit-learn-videos/master/data/Advertising.csv\"\n",
    "df=pd.read_csv(url)"
   ]
  },
  {
   "cell_type": "code",
   "execution_count": 17,
   "metadata": {},
   "outputs": [],
   "source": [
    "X = df[['TV', 'Radio', 'Newspaper']]\n",
    "X = sm.add_constant(X)\n",
    "Y=df['Sales']\n",
    "\n",
    "# fiting to the model \n",
    "\n",
    "model=sm.OLS(Y,X).fit()\n"
   ]
  },
  {
   "cell_type": "code",
   "execution_count": 19,
   "metadata": {},
   "outputs": [
    {
     "name": "stdout",
     "output_type": "stream",
     "text": [
      "                            OLS Regression Results                            \n",
      "==============================================================================\n",
      "Dep. Variable:                  Sales   R-squared:                       0.897\n",
      "Model:                            OLS   Adj. R-squared:                  0.896\n",
      "Method:                 Least Squares   F-statistic:                     570.3\n",
      "Date:                Sun, 07 May 2023   Prob (F-statistic):           1.58e-96\n",
      "Time:                        23:10:22   Log-Likelihood:                -386.18\n",
      "No. Observations:                 200   AIC:                             780.4\n",
      "Df Residuals:                     196   BIC:                             793.6\n",
      "Df Model:                           3                                         \n",
      "Covariance Type:            nonrobust                                         \n",
      "==============================================================================\n",
      "                 coef    std err          t      P>|t|      [0.025      0.975]\n",
      "------------------------------------------------------------------------------\n",
      "const          2.9389      0.312      9.422      0.000       2.324       3.554\n",
      "TV             0.0458      0.001     32.809      0.000       0.043       0.049\n",
      "Radio          0.1885      0.009     21.893      0.000       0.172       0.206\n",
      "Newspaper     -0.0010      0.006     -0.177      0.860      -0.013       0.011\n",
      "==============================================================================\n",
      "Omnibus:                       60.414   Durbin-Watson:                   2.084\n",
      "Prob(Omnibus):                  0.000   Jarque-Bera (JB):              151.241\n",
      "Skew:                          -1.327   Prob(JB):                     1.44e-33\n",
      "Kurtosis:                       6.332   Cond. No.                         454.\n",
      "==============================================================================\n",
      "\n",
      "Notes:\n",
      "[1] Standard Errors assume that the covariance matrix of the errors is correctly specified.\n"
     ]
    }
   ],
   "source": [
    "print(model.summary())"
   ]
  },
  {
   "cell_type": "code",
   "execution_count": 24,
   "metadata": {},
   "outputs": [
    {
     "data": {
      "text/plain": [
       "<AxesSubplot: ylabel='Density'>"
      ]
     },
     "execution_count": 24,
     "metadata": {},
     "output_type": "execute_result"
    },
    {
     "data": {
      "image/png": "[encoded data removed]",
      "text/plain": [
       "<Figure size 432x288 with 1 Axes>"
      ]
     },
     "metadata": {
      "needs_background": "light"
     },
     "output_type": "display_data"
    }
   ],
   "source": [
    "model.resid.plot(kind='kde')"
   ]
  },
  {
   "cell_type": "code",
   "execution_count": 46,
   "metadata": {},
   "outputs": [],
   "source": [
    "omnibus ,p_value=sm.stats.omni_normtest(model.resid)"
   ]
  },
  {
   "cell_type": "code",
   "execution_count": 56,
   "metadata": {},
   "outputs": [
    {
     "name": "stdout",
     "output_type": "stream",
     "text": [
      "Omnibus test statistic: 643.1683642939627\n",
      "p-value: 0.0\n"
     ]
    }
   ],
   "source": [
    "residuals=model.resid\n",
    "mean = np.mean(residuals)\n",
    "std = np.std(residuals)\n",
    "skewness = (np.sum((residuals - mean)**3) / (len(residuals) * std**3))\n",
    "kurtosis = np.sum((residuals - mean)**4) / (len(residuals) * std**4)-3\n",
    "\n",
    "# Calculate the Omnibus test statistic\n",
    "n = len(residuals)\n",
    "omnibus = (skewness**2 + kurtosis**2) * n / 4\n",
    "\n",
    "# Calculate the p-value of the test\n",
    "p_value = 1 - stats.chi2.cdf(omnibus, 2)\n",
    "\n",
    "print(\"Omnibus test statistic:\", omnibus)\n",
    "print(\"p-value:\", p_value)"
   ]
  },
  {
   "cell_type": "code",
   "execution_count": 79,
   "metadata": {},
   "outputs": [],
   "source": [
    "x=df['Radio']"
   ]
  },
  {
   "cell_type": "code",
   "execution_count": 87,
   "metadata": {},
   "outputs": [
    {
     "name": "stdout",
     "output_type": "stream",
     "text": [
      "Variable   Coefficients    SE         t-value    p-value   \n",
      "Constant   2.9389          0.3120     9.4196     0.0000    \n",
      "TV         0.0458          0.0010     45.8000    0.0000    \n",
      "Radio      0.1885          0.0090     20.9444    0.0000    \n",
      "Newspaper  -0.0010         0.0060     -0.1667    0.8678    \n"
     ]
    }
   ],
   "source": [
    "# Coefficients\n",
    "const_coef = 2.9389\n",
    "TV_coef = 0.0458\n",
    "Radio_coef = 0.1885\n",
    "Newspaper_coef = -0.0010\n",
    "\n",
    "# Standard errors\n",
    "const_se = 0.312\n",
    "TV_se = 0.001\n",
    "Radio_se = 0.009\n",
    "Newspaper_se = 0.006\n",
    "\n",
    "# Degrees of freedom\n",
    "df =  len(x)- 1\n",
    "\n",
    "# t-values\n",
    "const_t = const_coef / const_se\n",
    "TV_t = TV_coef / TV_se\n",
    "Radio_t = Radio_coef / Radio_se\n",
    "Newspaper_t = Newspaper_coef / Newspaper_se\n",
    "\n",
    "# p-values\n",
    "const_p = stats.t.sf(abs(const_t), df) * 2\n",
    "TV_p = stats.t.sf(abs(TV_t), df) * 2\n",
    "Radio_p = stats.t.sf(abs(Radio_t), df) * 2\n",
    "Newspaper_p = stats.t.sf(abs(Newspaper_t), df) * 2\n",
    "\n",
    "# Output results\n",
    "print(f\"{'Variable':<10} {'Coefficients':<15} {'SE':<10} {'t-value':<10} {'p-value':<10}\")\n",
    "print(f\"{'Constant':<10} {const_coef:<15.4f} {const_se:<10.4f} {const_t:<10.4f} {const_p:<10.4f}\")\n",
    "print(f\"{'TV':<10} {TV_coef:<15.4f} {TV_se:<10.4f} {TV_t:<10.4f} {TV_p:<10.4f}\")\n",
    "print(f\"{'Radio':<10} {Radio_coef:<15.4f} {Radio_se:<10.4f} {Radio_t:<10.4f} {Radio_p:<10.4f}\")\n",
    "print(f\"{'Newspaper':<10} {Newspaper_coef:<15.4f} {Newspaper_se:<10.4f} {Newspaper_t:<10.4f} {Newspaper_p:<10.4f}\")\n"
   ]
  },
  {
   "cell_type": "code",
   "execution_count": 11,
   "metadata": {},
   "outputs": [
    {
     "name": "stdout",
     "output_type": "stream",
     "text": [
      "R² score with irrelevant variables: 0.981\n",
      "Adjusted R² score with irrelevant variables: 0.980\n"
     ]
    }
   ],
   "source": [
    "import numpy as np\n",
    "import pandas as pd\n",
    "from sklearn.linear_model import LinearRegression\n",
    "from sklearn.metrics import r2_score\n",
    "\n",
    "# Generate some sample data\n",
    "np.random.seed(123)\n",
    "x1 = np.random.normal(size=100)\n",
    "x2 = np.random.normal(size=100)\n",
    "x3 = np.random.normal(size=100)\n",
    "\n",
    "y = 2*x1 + 3*x2 + 5*x3 + np.random.normal(size=100)\n",
    "\n",
    "# Create a dataframe with the independent variables and the dependent variable\n",
    "data = pd.DataFrame({'x1': x1, 'x2': x2, 'x3': x3, 'y': y})\n",
    "data['x4'] = np.random.normal(size=100)\n",
    "data['x5'] = np.random.gamma(1,10,100)\n",
    "\n",
    "# Fit a linear regression model using all five variables\n",
    "model = LinearRegression().fit(data[['x1', 'x2', 'x3', 'x4', 'x5']], data['y'])\n",
    "\n",
    "# Calculate the R² score\n",
    "r2_with_irrelevant = r2_score(data['y'], model.predict(data[['x1', 'x2', 'x3', 'x4', 'x5']]))\n",
    "\n",
    "# Calculate the adjusted R² score\n",
    "n = len(data)\n",
    "k = 5  # number of independent variables\n",
    "adj_r2 = 1 - ((1 - r2_with_irrelevant) * (n - 1) / (n - k - 1))\n",
    "\n",
    "\n",
    "print(f\"R² score with irrelevant variables: {r2_with_irrelevant:.3f}\")\n",
    "print(f\"Adjusted R² score with irrelevant variables: {adj_r2:.3f}\")\n"
   ]
  },
  {
   "cell_type": "code",
   "execution_count": 16,
   "metadata": {},
   "outputs": [
    {
     "name": "stdout",
     "output_type": "stream",
     "text": [
      "R² score with all features: 0.8034964491883647\n",
      "R² score with two irrelevant features: 0.8571405700172106\n",
      "Adjusted R² score with two irrelevant features: 0.6785662825387238\n"
     ]
    }
   ],
   "source": [
    "import numpy as np\n",
    "import pandas as pd\n",
    "from sklearn.linear_model import LinearRegression\n",
    "from sklearn.metrics import r2_score\n",
    "\n",
    "# Generate random data with 10 observations and 3 features\n",
    "X = np.random.randn(10, 3)\n",
    "y = X[:,0] + 2*X[:,1] + np.random.randn(10)\n",
    "\n",
    "# Fit a linear regression model with all three features\n",
    "reg = LinearRegression().fit(X, y)\n",
    "\n",
    "# Calculate the R² score for the model\n",
    "r2 = r2_score(y, reg.predict(X))\n",
    "print(\"R² score with all features:\", r2)\n",
    "\n",
    "# Add two irrelevant columns to the data\n",
    "X_new = np.hstack([X, np.random.randn(10, 2)])\n",
    "\n",
    "# Fit a linear regression model with all five features\n",
    "reg_new = LinearRegression().fit(X_new, y)\n",
    "\n",
    "# Calculate the R² score for the new model\n",
    "r2_new = r2_score(y, reg_new.predict(X_new))\n",
    "print(\"R² score with two irrelevant features:\", r2_new)\n",
    "\n",
    "# Calculate the adjusted R² score for the new model\n",
    "n = X_new.shape[0]\n",
    "k = X_new.shape[1]\n",
    "adj_r2_new = 1 - ((1 - r2_new) * (n - 1) / (n - k - 1))\n",
    "print(\"Adjusted R² score with two irrelevant features:\", adj_r2_new)\n"
   ]
  }
 ],
 "metadata": {
  "kernelspec": {
   "display_name": "Python 3",
   "language": "python",
   "name": "python3"
  },
  "language_info": {
   "codemirror_mode": {
    "name": "ipython",
    "version": 3
   },
   "file_extension": ".py",
   "mimetype": "text/x-python",
   "name": "python",
   "nbconvert_exporter": "python",
   "pygments_lexer": "ipython3",
   "version": "3.10.7"
  },
  "orig_nbformat": 4
 },
 "nbformat": 4,
 "nbformat_minor": 2
}
