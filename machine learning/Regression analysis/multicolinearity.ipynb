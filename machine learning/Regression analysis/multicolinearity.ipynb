{
 "cells": [
  {
   "attachments": {},
   "cell_type": "markdown",
   "metadata": {},
   "source": []
  },
  {
   "attachments": {},
   "cell_type": "markdown",
   "metadata": {},
   "source": [
    "## How to detect multicollinearity "
   ]
  },
  {
   "attachments": {},
   "cell_type": "markdown",
   "metadata": {},
   "source": [
    "A correlation matrix is a table that shows the correlation coefficients between a set of variables. The correlation coefficient measures the strength and direction of the linear relationship between two variables. A correlation coefficient ranges from -1 to 1, where -1 indicates a perfect negative correlation, 0 indicates no correlation, and 1 indicates a perfect positive correlation.\n",
    "\n",
    "The correlation matrix is typically represented as a square matrix where each row and column corresponds to a variable in the dataset. The diagonal elements of the matrix show the correlation of each variable with itself, which is always 1. The off-diagonal elements show the correlation between pairs of variables.\n",
    "\n",
    "The correlation coefficient between two variables x and y is given by:\n",
    "\n",
    "$r_{xy} = \\frac{\\sum_{i=1}^n (x_i - \\bar{x})(y_i - \\bar{y})}{\\sqrt{\\sum_{i=1}^n (x_i - \\bar{x})^2} \\sqrt{\\sum_{i=1}^n (y_i - \\bar{y})^2}}$\n",
    "\n",
    "where $n$ is the number of observations, $x_i$ and $y_i$ are the values of the variables for the $i$th observation, $\\bar{x}$ and $\\bar{y}$ are the sample means of the variables, and $\\sum$ represents the summation operator.\n",
    "\n",
    "This formula calculates the covariance of the two variables, which is then standardized by dividing by the product of their standard deviations to obtain the correlation coefficient. The correlation coefficient ranges from -1 to 1, with negative values indicating a negative correlation, positive values indicating a positive correlation, and values close to 0 indicating no correlation.\n",
    "\n",
    "The correlation matrix is a useful tool for detecting multicollinearity, as it allows us to identify variables that are highly correlated with each other. High correlation between two variables can indicate multicollinearity, which can lead to unstable and unreliable estimates in a regression model. In general, a correlation coefficient of 0.7 or higher is considered to indicate high correlation between two variables.\n",
    "\n",
    "To detect multicollinearity using the correlation matrix, we can examine the values of the correlation coefficients between pairs of variables. If we find that two or more variables have high correlation coefficients, we can investigate further to determine if multicollinearity is present. This can involve examining scatterplots or calculating variance inflation factors (VIFs) to quantify the extent of multicollinearity.\n",
    "\n",
    "\n",
    "\n",
    "\n"
   ]
  },
  {
   "cell_type": "code",
   "execution_count": 6,
   "metadata": {},
   "outputs": [
    {
     "name": "stdout",
     "output_type": "stream",
     "text": [
      "          x1        x2        x3        x4\n",
      "x1  1.000000 -0.020998  1.000000  0.999885\n",
      "x2 -0.020998  1.000000 -0.020998 -0.005885\n",
      "x3  1.000000 -0.020998  1.000000  0.999885\n",
      "x4  0.999885 -0.005885  0.999885  1.000000\n"
     ]
    },
    {
     "data": {
      "text/plain": [
       "<AxesSubplot: >"
      ]
     },
     "execution_count": 6,
     "metadata": {},
     "output_type": "execute_result"
    },
    {
     "data": {
      "image/png": "[encoded data removed]",
      "text/plain": [
       "<Figure size 432x288 with 2 Axes>"
      ]
     },
     "metadata": {
      "needs_background": "light"
     },
     "output_type": "display_data"
    }
   ],
   "source": [
    "import pandas as pd\n",
    "import seaborn as sns \n",
    "\n",
    "# create a sample dataset\n",
    "data = {'x1': [1, 2, 3, 4, 5],\n",
    "        'x2': [2, 40, 29, 22, 10],\n",
    "        'x3': [3, 6, 9, 12, 15],\n",
    "        'x4': [12, 26, 39, 52, 65]}\n",
    "\n",
    "df = pd.DataFrame(data)\n",
    "\n",
    "# calculate the correlation matrix\n",
    "corr_matrix = df.corr()\n",
    "print(corr_matrix)\n",
    "sns.heatmap(corr_matrix,annot=True)\n",
    "\n"
   ]
  },
  {
   "attachments": {},
   "cell_type": "markdown",
   "metadata": {},
   "source": [
    "# VIF"
   ]
  },
  {
   "attachments": {},
   "cell_type": "markdown",
   "metadata": {},
   "source": [
    "##### VIF for the predictor variable by dividing 1 by the difference between 1 and the R-squared(reduced) value:\n",
    "\n",
    "$ VIF = 1 / (1 - R-squared(reduced)) $"
   ]
  },
  {
   "cell_type": "code",
   "execution_count": 4,
   "metadata": {},
   "outputs": [
    {
     "name": "stdout",
     "output_type": "stream",
     "text": [
      "  Variable        VIF\n",
      "0      age   1.217307\n",
      "1      sex   1.278071\n",
      "2      bmi   1.509437\n",
      "3       bp   1.459428\n",
      "4       s1  59.202510\n",
      "5       s2  39.193370\n",
      "6       s3  15.402156\n",
      "7       s4   8.890986\n",
      "8       s5  10.075967\n",
      "9       s6   1.484623\n"
     ]
    }
   ],
   "source": [
    "import pandas as pd\n",
    "from sklearn.datasets import load_diabetes\n",
    "from sklearn.preprocessing import StandardScaler\n",
    "from statsmodels.stats.outliers_influence import variance_inflation_factor\n",
    "\n",
    "\n",
    "diabetes = load_diabetes()\n",
    "X = pd.DataFrame(diabetes.data, columns=diabetes.feature_names)\n",
    "\n",
    "# Scale the predictor variables\n",
    "scaler = StandardScaler()\n",
    "X_scaled = scaler.fit_transform(X)\n",
    "\n",
    "# Calculate the VIF values\n",
    "vif = pd.DataFrame()\n",
    "vif[\"Variable\"] = X.columns\n",
    "vif[\"VIF\"] = [variance_inflation_factor(X_scaled, i) for i in range(X_scaled.shape[1])]\n",
    "print(vif)\n"
   ]
  },
  {
   "attachments": {},
   "cell_type": "markdown",
   "metadata": {},
   "source": [
    "- The variables \"age,\" \"sex,\" \"bmi,\" \"bp,\" and \"s6\" have VIF values around or below 2. These values indicate low to moderate levels of multicollinearity, suggesting that these variables are not highly correlated with the other predictors.\n",
    "\n",
    "- On the other hand, the variables \"s1,\" \"s2,\" \"s3,\" \"s4,\" and \"s5\" have relatively high VIF values. The VIF values for \"s1\" and \"s2\" are particularly high, indicating strong multicollinearity between these variables and others in the dataset."
   ]
  },
  {
   "cell_type": "code",
   "execution_count": 6,
   "metadata": {},
   "outputs": [
    {
     "name": "stdout",
     "output_type": "stream",
     "text": [
      "Results with multicollinearity:\n",
      "  Variable  Coefficients (with multicollinearity)\n",
      "0       X1                              56.135743\n",
      "1       X2                             -23.504031\n",
      "2       X3                              -2.912970\n",
      "3       X4                              29.718742\n",
      "\n",
      "Results without multicollinearity:\n",
      "  Variable  Coefficients (without multicollinearity)\n",
      "0       X1                                 85.854485\n",
      "1       X2                                  6.214711\n",
      "2       X3                                 26.805772\n",
      "3       X4                                  0.000000\n"
     ]
    }
   ],
   "source": [
    "import pandas as pd\n",
    "import numpy as np\n",
    "from sklearn.datasets import make_regression\n",
    "from sklearn.linear_model import LinearRegression\n",
    "\n",
    "# Generate a sample dataset with multicollinearity\n",
    "X, y = make_regression(n_samples=100, n_features=4, noise=0.5, random_state=42)\n",
    "X[:, 3] = X[:, 0] + X[:, 1] + X[:, 2]  \n",
    "\n",
    "# Fit the linear regression model with multicollinearity\n",
    "model = LinearRegression()\n",
    "model.fit(X, y)\n",
    "\n",
    "# Calculate the coefficients with multicollinearity\n",
    "coefficients_with_multicollinearity = model.coef_\n",
    "\n",
    "# Remove the column causing multicollinearity\n",
    "X_new = np.delete(X, 3, axis=1)\n",
    "\n",
    "# Fit the linear regression model without multicollinearity\n",
    "model_new = LinearRegression()\n",
    "model_new.fit(X_new, y)\n",
    "\n",
    "# Calculate the coefficients without multicollinearity\n",
    "coefficients_without_multicollinearity = model_new.coef_\n",
    "\n",
    "# Create a DataFrame to store the results\n",
    "results_df = pd.DataFrame({\n",
    "    'Variable': ['X1', 'X2', 'X3', 'X4'],\n",
    "    'Coefficients (with multicollinearity)': coefficients_with_multicollinearity,\n",
    "    'Coefficients (without multicollinearity)': np.append(coefficients_without_multicollinearity, 0)\n",
    "})\n",
    "\n",
    "# Display the results\n",
    "print(\"Results with multicollinearity:\")\n",
    "print(results_df[['Variable', 'Coefficients (with multicollinearity)']])\n",
    "\n",
    "print(\"\\nResults without multicollinearity:\")\n",
    "print(results_df[['Variable', 'Coefficients (without multicollinearity)']])\n"
   ]
  }
 ],
 "metadata": {
  "kernelspec": {
   "display_name": "Python 3",
   "language": "python",
   "name": "python3"
  },
  "language_info": {
   "codemirror_mode": {
    "name": "ipython",
    "version": 3
   },
   "file_extension": ".py",
   "mimetype": "text/x-python",
   "name": "python",
   "nbconvert_exporter": "python",
   "pygments_lexer": "ipython3",
   "version": "3.10.7"
  },
  "orig_nbformat": 4
 },
 "nbformat": 4,
 "nbformat_minor": 2
}
