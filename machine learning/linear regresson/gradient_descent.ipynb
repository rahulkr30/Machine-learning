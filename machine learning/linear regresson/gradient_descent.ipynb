{
 "cells": [
  {
   "attachments": {},
   "cell_type": "markdown",
   "metadata": {},
   "source": [
    "# Gradient descent \n",
    "\n",
    "Gradient descent is an optimization algorithm used to iteratively update the parameters of a model in order to minimize a given cost function. The goal is to find the set of parameters that results in the lowest possible value of the cost function. The algorithm works by computing the gradient of the cost function with respect to the parameters and updating the parameters in the direction of the negative gradient. By repeating this process iteratively, the algorithm can converge towards the minimum of the cost function, which corresponds to the optimal set of parameters for the model."
   ]
  },
  {
   "cell_type": "code",
   "execution_count": 3,
   "metadata": {},
   "outputs": [],
   "source": [
    "import numpy as np\n",
    "\n",
    "# Define the dataset\n",
    "package = np.array([5, 6, 7, 8, 9, 10, 11, 12])\n",
    "cgpa = np.array([7, 7.5, 7.8, 8, 8.2, 8.5, 8.8, 9])"
   ]
  },
  {
   "cell_type": "code",
   "execution_count": 2,
   "metadata": {},
   "outputs": [],
   "source": [
    "from sklearn.linear_model import LinearRegression\n",
    "from sklearn.model_selection import train_test_split"
   ]
  },
  {
   "cell_type": "code",
   "execution_count": 3,
   "metadata": {},
   "outputs": [],
   "source": [
    "#spliting our datset \n",
    "\n",
    "X_train, X_test, y_train, y_test =train_test_split(package,cgpa, test_size=0.2, random_state=42)"
   ]
  },
  {
   "cell_type": "code",
   "execution_count": 7,
   "metadata": {},
   "outputs": [],
   "source": [
    "lr=LinearRegression()\n",
    "lr.fit(cgpa.reshape(-1,1),package.reshape(-1,1))\n"
   ]
  },
  {
   "cell_type": "code",
   "execution_count": 61,
   "metadata": {},
   "outputs": [
    {
     "name": "stdout",
     "output_type": "stream",
     "text": [
      "[[3.63057325]]\n",
      "[-20.90764331]\n"
     ]
    }
   ],
   "source": [
    "print(lr.coef_)\n",
    "print(lr.intercept_)"
   ]
  },
  {
   "cell_type": "code",
   "execution_count": 53,
   "metadata": {},
   "outputs": [],
   "source": [
    "m=lr.intercept_"
   ]
  },
  {
   "cell_type": "code",
   "execution_count": 54,
   "metadata": {},
   "outputs": [],
   "source": [
    "class Gdregressor:\n",
    "    def __init__(self,intercept,learning_rate,epchs):\n",
    "        self.m=3.63057325\n",
    "        self.b=intercept\n",
    "        self.lr=learning_rate\n",
    "        self.epochs=epchs\n",
    "\n",
    "    def fit(self,x,y):\n",
    "        # calculating the the b using the gd(gradient descent)\n",
    "            \n",
    "        for i in range (self.epochs):\n",
    "            loss_slope=-2*(np.sum(y-self.m*x.ravel()-self.b))\n",
    "            self.b=self.b-self.lr*loss_slope\n",
    "            print(self.b)\n",
    "        print(self.b)    \n"
   ]
  },
  {
   "cell_type": "code",
   "execution_count": 65,
   "metadata": {},
   "outputs": [],
   "source": [
    "d=Gdregressor(20,0.1,100)"
   ]
  },
  {
   "cell_type": "code",
   "execution_count": 66,
   "metadata": {},
   "outputs": [
    {
     "name": "stdout",
     "output_type": "stream",
     "text": [
      "-45.45222932\n",
      "-6.180891727999992\n",
      "-29.743694283200004\n",
      "-15.606012750079994\n",
      "-24.088621669952\n",
      "-18.999056318028796\n",
      "-22.05279552918272\n",
      "-20.220552002490365\n",
      "-21.31989811850578\n",
      "-20.66029044889653\n",
      "-21.05605505066208\n",
      "-20.81859628960275\n",
      "-20.961071546238347\n",
      "-20.875586392256988\n",
      "-20.926877484645804\n",
      "-20.896102829212516\n",
      "-20.91456762247249\n",
      "-20.903488746516505\n",
      "-20.910136072090094\n",
      "-20.90614767674594\n",
      "-20.908540713952434\n",
      "-20.90710489162854\n",
      "-20.907966385022874\n",
      "-20.907449488986273\n",
      "-20.907759626608232\n",
      "-20.90757354403506\n",
      "-20.907685193578963\n",
      "-20.90761820385262\n",
      "-20.907658397688426\n",
      "-20.907634281386944\n",
      "-20.90764875116783\n",
      "-20.9076400692993\n",
      "-20.907645278420418\n",
      "-20.907642152947748\n",
      "-20.90764402823135\n",
      "-20.907642903061188\n",
      "-20.907643578163285\n",
      "-20.907643173102027\n",
      "-20.907643416138782\n",
      "-20.90764327031673\n",
      "-20.90764335780996\n",
      "-20.90764330531402\n",
      "-20.907643336811585\n",
      "-20.907643317913045\n",
      "-20.90764332925217\n",
      "-20.907643322448695\n",
      "-20.90764332653078\n",
      "-20.90764332408153\n",
      "-20.90764332555108\n",
      "-20.907643324669348\n",
      "-20.90764332519839\n",
      "-20.907643324880965\n",
      "-20.90764332507142\n",
      "-20.907643324957146\n",
      "-20.90764332502571\n",
      "-20.907643324984573\n",
      "-20.907643325009253\n",
      "-20.907643324994446\n",
      "-20.90764332500333\n",
      "-20.907643324998\n",
      "-20.9076433250012\n",
      "-20.907643324999277\n",
      "-20.907643325000432\n",
      "-20.90764332499974\n",
      "-20.907643325000155\n",
      "-20.907643324999906\n",
      "-20.907643325000056\n",
      "-20.907643324999963\n",
      "-20.90764332500002\n",
      "-20.907643324999984\n",
      "-20.907643325000006\n",
      "-20.907643324999995\n",
      "-20.907643325000002\n",
      "-20.907643324999995\n",
      "-20.907643325000002\n",
      "-20.907643324999995\n",
      "-20.907643325000002\n",
      "-20.907643324999995\n",
      "-20.907643325000002\n",
      "-20.907643324999995\n",
      "-20.907643325000002\n",
      "-20.907643324999995\n",
      "-20.907643325000002\n",
      "-20.907643324999995\n",
      "-20.907643325000002\n",
      "-20.907643324999995\n",
      "-20.907643325000002\n",
      "-20.907643324999995\n",
      "-20.907643325000002\n",
      "-20.907643324999995\n",
      "-20.907643325000002\n",
      "-20.907643324999995\n",
      "-20.907643325000002\n",
      "-20.907643324999995\n",
      "-20.907643325000002\n",
      "-20.907643324999995\n",
      "-20.907643325000002\n",
      "-20.907643324999995\n",
      "-20.907643325000002\n",
      "-20.907643324999995\n",
      "-20.907643324999995\n"
     ]
    }
   ],
   "source": [
    "d.fit(cgpa,package)"
   ]
  },
  {
   "attachments": {},
   "cell_type": "markdown",
   "metadata": {},
   "source": [
    "-- full fleged "
   ]
  },
  {
   "cell_type": "code",
   "execution_count": 1,
   "metadata": {},
   "outputs": [],
   "source": [
    "from sklearn.datasets import make_regression"
   ]
  },
  {
   "cell_type": "code",
   "execution_count": 4,
   "metadata": {},
   "outputs": [],
   "source": [
    "X,y = make_regression(n_samples=100, n_features=1, n_informative=1, n_targets=1,noise=20,random_state=13)"
   ]
  },
  {
   "cell_type": "code",
   "execution_count": 5,
   "metadata": {},
   "outputs": [],
   "source": [
    "X_train,X_test,y_train,y__test = train_test_split(X,y,test_size=0.2,random_state=2)"
   ]
  },
  {
   "cell_type": "code",
   "execution_count": 8,
   "metadata": {},
   "outputs": [
    {
     "data": {
      "text/html": [
       "<style>#sk-container-id-1 {color: black;background-color: white;}#sk-container-id-1 pre{padding: 0;}#sk-container-id-1 div.sk-toggleable {background-color: white;}#sk-container-id-1 label.sk-toggleable__label {cursor: pointer;display: block;width: 100%;margin-bottom: 0;padding: 0.3em;box-sizing: border-box;text-align: center;}#sk-container-id-1 label.sk-toggleable__label-arrow:before {content: \"▸\";float: left;margin-right: 0.25em;color: #696969;}#sk-container-id-1 label.sk-toggleable__label-arrow:hover:before {color: black;}#sk-container-id-1 div.sk-estimator:hover label.sk-toggleable__label-arrow:before {color: black;}#sk-container-id-1 div.sk-toggleable__content {max-height: 0;max-width: 0;overflow: hidden;text-align: left;background-color: #f0f8ff;}#sk-container-id-1 div.sk-toggleable__content pre {margin: 0.2em;color: black;border-radius: 0.25em;background-color: #f0f8ff;}#sk-container-id-1 input.sk-toggleable__control:checked~div.sk-toggleable__content {max-height: 200px;max-width: 100%;overflow: auto;}#sk-container-id-1 input.sk-toggleable__control:checked~label.sk-toggleable__label-arrow:before {content: \"▾\";}#sk-container-id-1 div.sk-estimator input.sk-toggleable__control:checked~label.sk-toggleable__label {background-color: #d4ebff;}#sk-container-id-1 div.sk-label input.sk-toggleable__control:checked~label.sk-toggleable__label {background-color: #d4ebff;}#sk-container-id-1 input.sk-hidden--visually {border: 0;clip: rect(1px 1px 1px 1px);clip: rect(1px, 1px, 1px, 1px);height: 1px;margin: -1px;overflow: hidden;padding: 0;position: absolute;width: 1px;}#sk-container-id-1 div.sk-estimator {font-family: monospace;background-color: #f0f8ff;border: 1px dotted black;border-radius: 0.25em;box-sizing: border-box;margin-bottom: 0.5em;}#sk-container-id-1 div.sk-estimator:hover {background-color: #d4ebff;}#sk-container-id-1 div.sk-parallel-item::after {content: \"\";width: 100%;border-bottom: 1px solid gray;flex-grow: 1;}#sk-container-id-1 div.sk-label:hover label.sk-toggleable__label {background-color: #d4ebff;}#sk-container-id-1 div.sk-serial::before {content: \"\";position: absolute;border-left: 1px solid gray;box-sizing: border-box;top: 0;bottom: 0;left: 50%;z-index: 0;}#sk-container-id-1 div.sk-serial {display: flex;flex-direction: column;align-items: center;background-color: white;padding-right: 0.2em;padding-left: 0.2em;position: relative;}#sk-container-id-1 div.sk-item {position: relative;z-index: 1;}#sk-container-id-1 div.sk-parallel {display: flex;align-items: stretch;justify-content: center;background-color: white;position: relative;}#sk-container-id-1 div.sk-item::before, #sk-container-id-1 div.sk-parallel-item::before {content: \"\";position: absolute;border-left: 1px solid gray;box-sizing: border-box;top: 0;bottom: 0;left: 50%;z-index: -1;}#sk-container-id-1 div.sk-parallel-item {display: flex;flex-direction: column;z-index: 1;position: relative;background-color: white;}#sk-container-id-1 div.sk-parallel-item:first-child::after {align-self: flex-end;width: 50%;}#sk-container-id-1 div.sk-parallel-item:last-child::after {align-self: flex-start;width: 50%;}#sk-container-id-1 div.sk-parallel-item:only-child::after {width: 0;}#sk-container-id-1 div.sk-dashed-wrapped {border: 1px dashed gray;margin: 0 0.4em 0.5em 0.4em;box-sizing: border-box;padding-bottom: 0.4em;background-color: white;}#sk-container-id-1 div.sk-label label {font-family: monospace;font-weight: bold;display: inline-block;line-height: 1.2em;}#sk-container-id-1 div.sk-label-container {text-align: center;}#sk-container-id-1 div.sk-container {/* jupyter's `normalize.less` sets `[hidden] { display: none; }` but bootstrap.min.css set `[hidden] { display: none !important; }` so we also need the `!important` here to be able to override the default hidden behavior on the sphinx rendered scikit-learn.org. See: https://github.com/scikit-learn/scikit-learn/issues/21755 */display: inline-block !important;position: relative;}#sk-container-id-1 div.sk-text-repr-fallback {display: none;}</style><div id=\"sk-container-id-1\" class=\"sk-top-container\"><div class=\"sk-text-repr-fallback\"><pre>LinearRegression()</pre><b>In a Jupyter environment, please rerun this cell to show the HTML representation or trust the notebook. <br />On GitHub, the HTML representation is unable to render, please try loading this page with nbviewer.org.</b></div><div class=\"sk-container\" hidden><div class=\"sk-item\"><div class=\"sk-estimator sk-toggleable\"><input class=\"sk-toggleable__control sk-hidden--visually\" id=\"sk-estimator-id-1\" type=\"checkbox\" checked><label for=\"sk-estimator-id-1\" class=\"sk-toggleable__label sk-toggleable__label-arrow\">LinearRegression</label><div class=\"sk-toggleable__content\"><pre>LinearRegression()</pre></div></div></div></div></div>"
      ],
      "text/plain": [
       "LinearRegression()"
      ]
     },
     "execution_count": 8,
     "metadata": {},
     "output_type": "execute_result"
    }
   ],
   "source": [
    "lr.fit(X_train,y_train)"
   ]
  },
  {
   "cell_type": "code",
   "execution_count": 9,
   "metadata": {},
   "outputs": [
    {
     "data": {
      "text/plain": [
       "array([28.12597332])"
      ]
     },
     "execution_count": 9,
     "metadata": {},
     "output_type": "execute_result"
    }
   ],
   "source": [
    "lr.coef_"
   ]
  },
  {
   "cell_type": "code",
   "execution_count": 10,
   "metadata": {},
   "outputs": [
    {
     "data": {
      "text/plain": [
       "-2.2710144261783825"
      ]
     },
     "execution_count": 10,
     "metadata": {},
     "output_type": "execute_result"
    }
   ],
   "source": [
    "lr.intercept_"
   ]
  },
  {
   "cell_type": "code",
   "execution_count": 11,
   "metadata": {},
   "outputs": [
    {
     "data": {
      "text/plain": [
       "array([ 21.09901593,  18.03495551,  18.23747414,  -8.10292651,\n",
       "        15.72634513,  58.21059953, -15.03324179, -11.33105581,\n",
       "       -15.81005402,  -8.8082183 , -23.57512364,  14.78144416,\n",
       "        12.70150681, -23.8893975 , -22.30769518, -16.670531  ,\n",
       "        24.52827391, -16.98551717,  -3.88916883, -12.01966768])"
      ]
     },
     "execution_count": 11,
     "metadata": {},
     "output_type": "execute_result"
    }
   ],
   "source": [
    "lr.predict(X_test)"
   ]
  },
  {
   "cell_type": "code",
   "execution_count": 21,
   "metadata": {},
   "outputs": [
    {
     "data": {
      "text/plain": [
       "0.6345158782661012"
      ]
     },
     "execution_count": 21,
     "metadata": {},
     "output_type": "execute_result"
    }
   ],
   "source": [
    "y_pred = lr.predict(X_test)\n",
    "from sklearn.metrics import r2_score\n",
    "r2_score(y__test,y_pred)"
   ]
  },
  {
   "cell_type": "code",
   "execution_count": 12,
   "metadata": {},
   "outputs": [
    {
     "data": {
      "text/plain": [
       "array([  5.63079459,  46.35423956,   6.33015059,  12.48703995,\n",
       "         6.69670792,  62.8216706 , -19.08818775, -29.39129264,\n",
       "       -28.68867308, -18.96087356,  -2.40222151,  12.47602642,\n",
       "         2.54005098, -23.46558518, -34.31988063,   6.09015466,\n",
       "        20.43721216,   4.38924069, -18.93533099, -10.21709104])"
      ]
     },
     "execution_count": 12,
     "metadata": {},
     "output_type": "execute_result"
    }
   ],
   "source": [
    "y__test"
   ]
  },
  {
   "attachments": {},
   "cell_type": "markdown",
   "metadata": {},
   "source": [
    "# GDregressor function from scratch"
   ]
  },
  {
   "cell_type": "code",
   "execution_count": 13,
   "metadata": {},
   "outputs": [],
   "source": [
    "class Gdregressor:\n",
    "    def __init__(self,m,intercept,learning_rate,epchs):\n",
    "        self.m=m\n",
    "        self.b=intercept\n",
    "        self.lr=learning_rate\n",
    "        self.epochs=epchs\n",
    "\n",
    "    def fit(self,x,y):\n",
    "        # calculating the the b using the gd(gradient descent)\n",
    "            \n",
    "        for i in range (self.epochs):\n",
    "            loss_slope_b=-2*(np.sum(y-self.m*x.ravel()-self.b))\n",
    "            loss_slope_m=-2*(np.sum((y-self.m*x.ravel()-self.b)*x.ravel()))\n",
    "\n",
    "            self.b=self.b-self.lr*loss_slope_b\n",
    "            self.m=self.m-self.lr*loss_slope_m\n",
    "            \n",
    "        print(self.b,self.m)  \n",
    "    def predict(self,x):\n",
    "           return self.m*x+self.b \n"
   ]
  },
  {
   "cell_type": "code",
   "execution_count": 14,
   "metadata": {},
   "outputs": [],
   "source": [
    "d=Gdregressor(100,-120,0.001,100)"
   ]
  },
  {
   "cell_type": "code",
   "execution_count": 15,
   "metadata": {},
   "outputs": [
    {
     "name": "stdout",
     "output_type": "stream",
     "text": [
      "-2.2710234077993587 28.12598618006269\n"
     ]
    }
   ],
   "source": [
    "d.fit(X_train,y_train)"
   ]
  },
  {
   "cell_type": "code",
   "execution_count": 16,
   "metadata": {},
   "outputs": [],
   "source": [
    "Y_pred=d.predict(X_test)"
   ]
  },
  {
   "cell_type": "code",
   "execution_count": 17,
   "metadata": {},
   "outputs": [],
   "source": [
    "from sklearn.metrics import r2_score"
   ]
  },
  {
   "cell_type": "code",
   "execution_count": 22,
   "metadata": {},
   "outputs": [
    {
     "data": {
      "text/plain": [
       "0.634515826773629"
      ]
     },
     "execution_count": 22,
     "metadata": {},
     "output_type": "execute_result"
    }
   ],
   "source": [
    "r2_score(y__test,Y_pred)"
   ]
  }
 ],
 "metadata": {
  "kernelspec": {
   "display_name": "Python 3",
   "language": "python",
   "name": "python3"
  },
  "language_info": {
   "codemirror_mode": {
    "name": "ipython",
    "version": 3
   },
   "file_extension": ".py",
   "mimetype": "text/x-python",
   "name": "python",
   "nbconvert_exporter": "python",
   "pygments_lexer": "ipython3",
   "version": "3.10.7"
  },
  "orig_nbformat": 4
 },
 "nbformat": 4,
 "nbformat_minor": 2
}
