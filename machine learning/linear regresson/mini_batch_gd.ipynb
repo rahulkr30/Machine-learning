{
 "cells": [
  {
   "cell_type": "code",
   "execution_count": 1,
   "metadata": {},
   "outputs": [],
   "source": [
    "import numpy as np \n",
    "from sklearn.datasets import load_diabetes\n",
    "from sklearn.linear_model import SGDRegressor\n",
    "from sklearn.model_selection import train_test_split\n",
    "from sklearn.metrics import r2_score \n",
    "import random"
   ]
  },
  {
   "cell_type": "code",
   "execution_count": 4,
   "metadata": {},
   "outputs": [],
   "source": [
    "x,y=load_diabetes(return_X_y=True)"
   ]
  },
  {
   "cell_type": "code",
   "execution_count": 10,
   "metadata": {},
   "outputs": [],
   "source": [
    "class MiniBGD:\n",
    "    def __init__(self,batch_size,learning_rate=0.01,epoch=100):\n",
    "        self.intercept_=None\n",
    "        self.coef_=None\n",
    "        self.batch_size=batch_size\n",
    "        self.lr=learning_rate\n",
    "        self.epoch=epoch\n",
    "\n",
    "    def fit (self,x_train,y_train):\n",
    "        n_sample,n_frature=x_train.shape\n",
    "        self.intercept_=0\n",
    "        self.coef_=np.ones(n_frature)  \n",
    "\n",
    "        for i in range (self.epoch):\n",
    "            for j in range(n_sample//self.batch_size):\n",
    "               \n",
    "               idx = random.sample(range(n_sample),self.batch_size)\n",
    "\n",
    "               y_hat = np.dot(x_train[idx],self.coef_) + self.intercept_\n",
    "               intercept_dr=-2*np.mean(y_train[idx]-y_hat)\n",
    "               coef_dr=-2*np.dot((y_train[idx]-y_hat),x_train[idx])\n",
    "\n",
    "               self.coef_=self.coef_ - (self.lr*coef_dr)\n",
    "               self.intercept_=self.intercept_ - (self.lr*intercept_dr)\n",
    "        print(self.coef_,self.intercept_)  \n",
    "    def predect(self,x_test):\n",
    "        return self.intercept_+np.dot(x_test,self.coef_)         "
   ]
  },
  {
   "cell_type": "code",
   "execution_count": 5,
   "metadata": {},
   "outputs": [],
   "source": [
    "X_train,X_test,y_train,y_test=train_test_split(x,y,random_state=2,test_size=0.2)"
   ]
  },
  {
   "attachments": {},
   "cell_type": "markdown",
   "metadata": {},
   "source": [
    "--- using libarary "
   ]
  },
  {
   "cell_type": "code",
   "execution_count": 46,
   "metadata": {},
   "outputs": [],
   "source": [
    "sgd = SGDRegressor(learning_rate='constant',eta0=0.1)"
   ]
  },
  {
   "cell_type": "code",
   "execution_count": 58,
   "metadata": {},
   "outputs": [],
   "source": [
    "import random\n",
    "batch_size = 35\n",
    "\n",
    "for i in range(100):\n",
    "    \n",
    "    idx = random.sample(range(X_train.shape[0]),batch_size)\n",
    "    sgd.partial_fit(X_train[idx],y_train[idx])"
   ]
  },
  {
   "cell_type": "code",
   "execution_count": 53,
   "metadata": {},
   "outputs": [
    {
     "data": {
      "text/plain": [
       "array([   7.51534235, -165.97187737,  474.84441271,  318.76688492,\n",
       "        -20.55731731, -102.2263269 , -172.09431492,   94.79810936,\n",
       "        437.18287054,  105.16659346])"
      ]
     },
     "execution_count": 53,
     "metadata": {},
     "output_type": "execute_result"
    }
   ],
   "source": [
    "sgd.coef_"
   ]
  },
  {
   "cell_type": "code",
   "execution_count": 59,
   "metadata": {},
   "outputs": [
    {
     "data": {
      "text/plain": [
       "array([146.67298899])"
      ]
     },
     "execution_count": 59,
     "metadata": {},
     "output_type": "execute_result"
    }
   ],
   "source": [
    "sgd.intercept_"
   ]
  },
  {
   "attachments": {},
   "cell_type": "markdown",
   "metadata": {},
   "source": [
    "-- for my class"
   ]
  },
  {
   "cell_type": "code",
   "execution_count": 14,
   "metadata": {},
   "outputs": [],
   "source": [
    "sgd1=MiniBGD(batch_size=30,learning_rate=0.1,epoch=1000)"
   ]
  },
  {
   "cell_type": "code",
   "execution_count": 15,
   "metadata": {},
   "outputs": [
    {
     "name": "stdout",
     "output_type": "stream",
     "text": [
      "[ -10.38071131 -202.08089364  509.65442919  327.92499355 -685.51425593\n",
      "  371.47533865   38.16278348   98.6129957   801.53782185   21.62217596] 149.7116868792504\n"
     ]
    }
   ],
   "source": [
    "sgd1.fit(X_train,y_train)"
   ]
  },
  {
   "cell_type": "code",
   "execution_count": 16,
   "metadata": {},
   "outputs": [
    {
     "data": {
      "text/plain": [
       "149.7116868792504"
      ]
     },
     "execution_count": 16,
     "metadata": {},
     "output_type": "execute_result"
    }
   ],
   "source": [
    "sgd1.intercept_"
   ]
  },
  {
   "cell_type": "code",
   "execution_count": 106,
   "metadata": {},
   "outputs": [],
   "source": [
    "class MiniBGD:\n",
    "    def __init__(self, batch_size, learning_rate=0.01, epoch=100):\n",
    "        self.intercept_ = None\n",
    "        self.coef_ = None\n",
    "        self.batch_size = batch_size\n",
    "        self.lr = learning_rate\n",
    "        self.epoch = epoch\n",
    "\n",
    "    def fit(self, x_train, y_train, max_epochs=1000, min_improvement=1e-10):\n",
    "        n_sample, n_feature = x_train.shape\n",
    "        self.intercept_ = 0\n",
    "        self.coef_ = np.ones(n_feature)\n",
    "\n",
    "        prev_loss = float('inf')\n",
    "        for epoch in range(max_epochs):\n",
    "            for j in range(n_sample // self.batch_size):\n",
    "                idx = random.sample(range(n_sample), self.batch_size)\n",
    "\n",
    "                y_hat = np.dot(x_train[idx], self.coef_) + self.intercept_\n",
    "                intercept_dr = -2 * np.mean(y_train[idx] - y_hat)\n",
    "                coef_dr = -2 * np.dot((y_train[idx] - y_hat), x_train[idx])\n",
    "\n",
    "                self.coef_ = self.coef_ - (self.lr * coef_dr)\n",
    "                self.intercept_ = self.intercept_ - (self.lr * intercept_dr)\n",
    "\n",
    "            # Calculate the current loss\n",
    "            y_pred = self.intercept_ + np.dot(x_train, self.coef_)\n",
    "            current_loss = np.mean((y_train - y_pred) ** 2)\n",
    "\n",
    "            # Check if the improvement in loss is less than the threshold\n",
    "            if prev_loss - current_loss < min_improvement:\n",
    "                print(f'Stopping early at epoch {epoch}')\n",
    "                break\n",
    "\n",
    "            prev_loss = current_loss\n",
    "\n",
    "        print(self.coef_, self.intercept_)\n",
    "\n",
    "    def predict(self, x_test):\n",
    "        return self.intercept_ + np.dot(x_test, self.coef_)\n"
   ]
  },
  {
   "cell_type": "code",
   "execution_count": 107,
   "metadata": {},
   "outputs": [],
   "source": [
    "sgd3=MiniBGD(batch_size=30,learning_rate=0.01,epoch=1000)"
   ]
  },
  {
   "cell_type": "code",
   "execution_count": 108,
   "metadata": {},
   "outputs": [
    {
     "ename": "NameError",
     "evalue": "name 'predict' is not defined",
     "output_type": "error",
     "traceback": [
      "\u001b[1;31m---------------------------------------------------------------------------\u001b[0m",
      "\u001b[1;31mNameError\u001b[0m                                 Traceback (most recent call last)",
      "\u001b[1;32md:\\python\\data science mentorship program\\Module 5 ml\\mini_batch_gd.ipynb Cell 16\u001b[0m in \u001b[0;36m<module>\u001b[1;34m\u001b[0m\n\u001b[1;32m----> <a href='vscode-notebook-cell:/d%3A/python/data%20science%20mentorship%20program/Module%205%20ml/mini_batch_gd.ipynb#X24sZmlsZQ%3D%3D?line=0'>1</a>\u001b[0m sgd3\u001b[39m.\u001b[39;49mfit(X_train,y_train)\n",
      "\u001b[1;32md:\\python\\data science mentorship program\\Module 5 ml\\mini_batch_gd.ipynb Cell 16\u001b[0m in \u001b[0;36mMiniBGD.fit\u001b[1;34m(self, x_train, y_train, max_epochs, min_improvement)\u001b[0m\n\u001b[0;32m     <a href='vscode-notebook-cell:/d%3A/python/data%20science%20mentorship%20program/Module%205%20ml/mini_batch_gd.ipynb#X24sZmlsZQ%3D%3D?line=23'>24</a>\u001b[0m     \u001b[39mself\u001b[39m\u001b[39m.\u001b[39mintercept_ \u001b[39m=\u001b[39m \u001b[39mself\u001b[39m\u001b[39m.\u001b[39mintercept_ \u001b[39m-\u001b[39m (\u001b[39mself\u001b[39m\u001b[39m.\u001b[39mlr \u001b[39m*\u001b[39m intercept_dr)\n\u001b[0;32m     <a href='vscode-notebook-cell:/d%3A/python/data%20science%20mentorship%20program/Module%205%20ml/mini_batch_gd.ipynb#X24sZmlsZQ%3D%3D?line=25'>26</a>\u001b[0m \u001b[39m# Calculate the current loss\u001b[39;00m\n\u001b[1;32m---> <a href='vscode-notebook-cell:/d%3A/python/data%20science%20mentorship%20program/Module%205%20ml/mini_batch_gd.ipynb#X24sZmlsZQ%3D%3D?line=27'>28</a>\u001b[0m current_loss \u001b[39m=\u001b[39m np\u001b[39m.\u001b[39mmean((y_train \u001b[39m-\u001b[39m predict(x_train[idx])) \u001b[39m*\u001b[39m\u001b[39m*\u001b[39m \u001b[39m2\u001b[39m)\n\u001b[0;32m     <a href='vscode-notebook-cell:/d%3A/python/data%20science%20mentorship%20program/Module%205%20ml/mini_batch_gd.ipynb#X24sZmlsZQ%3D%3D?line=29'>30</a>\u001b[0m \u001b[39m# Check if the improvement in loss is less than the threshold\u001b[39;00m\n\u001b[0;32m     <a href='vscode-notebook-cell:/d%3A/python/data%20science%20mentorship%20program/Module%205%20ml/mini_batch_gd.ipynb#X24sZmlsZQ%3D%3D?line=30'>31</a>\u001b[0m \u001b[39mif\u001b[39;00m prev_loss \u001b[39m-\u001b[39m current_loss \u001b[39m<\u001b[39m min_improvement:\n",
      "\u001b[1;31mNameError\u001b[0m: name 'predict' is not defined"
     ]
    }
   ],
   "source": [
    "sgd3.fit(X_train,y_train)\n"
   ]
  },
  {
   "cell_type": "code",
   "execution_count": 20,
   "metadata": {},
   "outputs": [],
   "source": [
    "import sklearn.linear_model"
   ]
  },
  {
   "cell_type": "code",
   "execution_count": 21,
   "metadata": {},
   "outputs": [],
   "source": [
    "lr=sklearn.linear_model.LinearRegression()"
   ]
  },
  {
   "cell_type": "code",
   "execution_count": 23,
   "metadata": {},
   "outputs": [
    {
     "data": {
      "text/html": [
       "<style>#sk-container-id-1 {color: black;background-color: white;}#sk-container-id-1 pre{padding: 0;}#sk-container-id-1 div.sk-toggleable {background-color: white;}#sk-container-id-1 label.sk-toggleable__label {cursor: pointer;display: block;width: 100%;margin-bottom: 0;padding: 0.3em;box-sizing: border-box;text-align: center;}#sk-container-id-1 label.sk-toggleable__label-arrow:before {content: \"▸\";float: left;margin-right: 0.25em;color: #696969;}#sk-container-id-1 label.sk-toggleable__label-arrow:hover:before {color: black;}#sk-container-id-1 div.sk-estimator:hover label.sk-toggleable__label-arrow:before {color: black;}#sk-container-id-1 div.sk-toggleable__content {max-height: 0;max-width: 0;overflow: hidden;text-align: left;background-color: #f0f8ff;}#sk-container-id-1 div.sk-toggleable__content pre {margin: 0.2em;color: black;border-radius: 0.25em;background-color: #f0f8ff;}#sk-container-id-1 input.sk-toggleable__control:checked~div.sk-toggleable__content {max-height: 200px;max-width: 100%;overflow: auto;}#sk-container-id-1 input.sk-toggleable__control:checked~label.sk-toggleable__label-arrow:before {content: \"▾\";}#sk-container-id-1 div.sk-estimator input.sk-toggleable__control:checked~label.sk-toggleable__label {background-color: #d4ebff;}#sk-container-id-1 div.sk-label input.sk-toggleable__control:checked~label.sk-toggleable__label {background-color: #d4ebff;}#sk-container-id-1 input.sk-hidden--visually {border: 0;clip: rect(1px 1px 1px 1px);clip: rect(1px, 1px, 1px, 1px);height: 1px;margin: -1px;overflow: hidden;padding: 0;position: absolute;width: 1px;}#sk-container-id-1 div.sk-estimator {font-family: monospace;background-color: #f0f8ff;border: 1px dotted black;border-radius: 0.25em;box-sizing: border-box;margin-bottom: 0.5em;}#sk-container-id-1 div.sk-estimator:hover {background-color: #d4ebff;}#sk-container-id-1 div.sk-parallel-item::after {content: \"\";width: 100%;border-bottom: 1px solid gray;flex-grow: 1;}#sk-container-id-1 div.sk-label:hover label.sk-toggleable__label {background-color: #d4ebff;}#sk-container-id-1 div.sk-serial::before {content: \"\";position: absolute;border-left: 1px solid gray;box-sizing: border-box;top: 0;bottom: 0;left: 50%;z-index: 0;}#sk-container-id-1 div.sk-serial {display: flex;flex-direction: column;align-items: center;background-color: white;padding-right: 0.2em;padding-left: 0.2em;position: relative;}#sk-container-id-1 div.sk-item {position: relative;z-index: 1;}#sk-container-id-1 div.sk-parallel {display: flex;align-items: stretch;justify-content: center;background-color: white;position: relative;}#sk-container-id-1 div.sk-item::before, #sk-container-id-1 div.sk-parallel-item::before {content: \"\";position: absolute;border-left: 1px solid gray;box-sizing: border-box;top: 0;bottom: 0;left: 50%;z-index: -1;}#sk-container-id-1 div.sk-parallel-item {display: flex;flex-direction: column;z-index: 1;position: relative;background-color: white;}#sk-container-id-1 div.sk-parallel-item:first-child::after {align-self: flex-end;width: 50%;}#sk-container-id-1 div.sk-parallel-item:last-child::after {align-self: flex-start;width: 50%;}#sk-container-id-1 div.sk-parallel-item:only-child::after {width: 0;}#sk-container-id-1 div.sk-dashed-wrapped {border: 1px dashed gray;margin: 0 0.4em 0.5em 0.4em;box-sizing: border-box;padding-bottom: 0.4em;background-color: white;}#sk-container-id-1 div.sk-label label {font-family: monospace;font-weight: bold;display: inline-block;line-height: 1.2em;}#sk-container-id-1 div.sk-label-container {text-align: center;}#sk-container-id-1 div.sk-container {/* jupyter's `normalize.less` sets `[hidden] { display: none; }` but bootstrap.min.css set `[hidden] { display: none !important; }` so we also need the `!important` here to be able to override the default hidden behavior on the sphinx rendered scikit-learn.org. See: https://github.com/scikit-learn/scikit-learn/issues/21755 */display: inline-block !important;position: relative;}#sk-container-id-1 div.sk-text-repr-fallback {display: none;}</style><div id=\"sk-container-id-1\" class=\"sk-top-container\"><div class=\"sk-text-repr-fallback\"><pre>LinearRegression()</pre><b>In a Jupyter environment, please rerun this cell to show the HTML representation or trust the notebook. <br />On GitHub, the HTML representation is unable to render, please try loading this page with nbviewer.org.</b></div><div class=\"sk-container\" hidden><div class=\"sk-item\"><div class=\"sk-estimator sk-toggleable\"><input class=\"sk-toggleable__control sk-hidden--visually\" id=\"sk-estimator-id-1\" type=\"checkbox\" checked><label for=\"sk-estimator-id-1\" class=\"sk-toggleable__label sk-toggleable__label-arrow\">LinearRegression</label><div class=\"sk-toggleable__content\"><pre>LinearRegression()</pre></div></div></div></div></div>"
      ],
      "text/plain": [
       "LinearRegression()"
      ]
     },
     "execution_count": 23,
     "metadata": {},
     "output_type": "execute_result"
    }
   ],
   "source": [
    "lr.fit(X_train,y_train)"
   ]
  },
  {
   "cell_type": "code",
   "execution_count": 25,
   "metadata": {},
   "outputs": [
    {
     "data": {
      "text/plain": [
       "151.88331005254167"
      ]
     },
     "execution_count": 25,
     "metadata": {},
     "output_type": "execute_result"
    }
   ],
   "source": [
    "lr.intercept_"
   ]
  }
 ],
 "metadata": {
  "kernelspec": {
   "display_name": "Python 3",
   "language": "python",
   "name": "python3"
  },
  "language_info": {
   "codemirror_mode": {
    "name": "ipython",
    "version": 3
   },
   "file_extension": ".py",
   "mimetype": "text/x-python",
   "name": "python",
   "nbconvert_exporter": "python",
   "pygments_lexer": "ipython3",
   "version": "3.10.7"
  },
  "orig_nbformat": 4
 },
 "nbformat": 4,
 "nbformat_minor": 2
}
