{
 "cells": [
  {
   "cell_type": "code",
   "execution_count": 1,
   "metadata": {},
   "outputs": [
    {
     "name": "stdout",
     "output_type": "stream",
     "text": [
      "Covariance Matrix:\n",
      "[[62.5 62.5]\n",
      " [62.5 62.5]]\n",
      "Transformed Data:\n",
      "[[ 14.14213562  -0.        ]\n",
      " [  7.07106781   0.        ]\n",
      " [ -0.           0.        ]\n",
      " [ -7.07106781   0.        ]\n",
      " [-14.14213562   0.        ]]\n",
      "Principal Components:\n",
      "[[-0.70710678 -0.70710678]\n",
      " [-0.70710678  0.70710678]]\n"
     ]
    }
   ],
   "source": [
    "import numpy as np\n",
    "from sklearn.decomposition import PCA\n",
    "\n",
    "# Example dataset with two variables: Height and Weight\n",
    "data = np.array([[165, 60], [170, 65], [175, 70], [180, 75], [185, 80]])\n",
    "\n",
    "# Compute the covariance matrix\n",
    "covariance_matrix = np.cov(data, rowvar=False)\n",
    "\n",
    "print(\"Covariance Matrix:\")\n",
    "print(covariance_matrix)\n",
    "\n",
    "# Perform PCA\n",
    "pca = PCA(n_components=2)\n",
    "transformed_data = pca.fit_transform(data)\n",
    "\n",
    "print(\"Transformed Data:\")\n",
    "print(transformed_data)\n",
    "\n",
    "# Interpret the principal components\n",
    "print(\"Principal Components:\")\n",
    "print(pca.components_)\n"
   ]
  },
  {
   "cell_type": "code",
   "execution_count": 2,
   "metadata": {},
   "outputs": [
    {
     "name": "stdout",
     "output_type": "stream",
     "text": [
      "Original Data:\n",
      "[[160  60]\n",
      " [170  65]\n",
      " [155  55]\n",
      " [180  70]\n",
      " [175  68]]\n",
      "\n",
      "Transformed Data (Retained information in first principal component):\n",
      "[[  8.72200373]\n",
      " [ -2.43343872]\n",
      " [ 15.56441391]\n",
      " [-13.58888118]\n",
      " [ -8.26409774]]\n",
      "\n",
      "Principal Components (Weighted combination of height and weight):\n",
      "[[-0.86260646 -0.50587558]]\n",
      "\n",
      "Explained Variance Ratio:\n",
      "[0.99654516]\n"
     ]
    }
   ],
   "source": [
    "import numpy as np\n",
    "from sklearn.decomposition import PCA\n",
    "\n",
    "# Example data\n",
    "height = [160, 170, 155, 180, 175]\n",
    "weight = [60, 65, 55, 70, 68]\n",
    "\n",
    "# Construct the dataset\n",
    "data = np.array([height, weight]).T\n",
    "\n",
    "# Create and fit the PCA model\n",
    "pca = PCA(n_components=1)\n",
    "pca.fit(data)\n",
    "\n",
    "# Transform the data using the PCA model\n",
    "transformed_data = pca.transform(data)\n",
    "\n",
    "# Retrieve the principal components\n",
    "principal_components = pca.components_\n",
    "\n",
    "# Calculate the variance explained by the principal component\n",
    "explained_variance_ratio = pca.explained_variance_ratio_\n",
    "\n",
    "# Print the original data and transformed data\n",
    "print(\"Original Data:\")\n",
    "print(data)\n",
    "print()\n",
    "print(\"Transformed Data (Retained information in first principal component):\")\n",
    "print(transformed_data)\n",
    "print()\n",
    "print(\"Principal Components (Weighted combination of height and weight):\")\n",
    "print(principal_components)\n",
    "print()\n",
    "print(\"Explained Variance Ratio:\")\n",
    "print(explained_variance_ratio)\n"
   ]
  },
  {
   "cell_type": "code",
   "execution_count": 8,
   "metadata": {},
   "outputs": [
    {
     "data": {
      "text/plain": [
       "array([4, 2])"
      ]
     },
     "execution_count": 8,
     "metadata": {},
     "output_type": "execute_result"
    }
   ],
   "source": [
    "np.dot(np.array([[1,3],[0,2]]),np.array([1,1]))"
   ]
  },
  {
   "cell_type": "code",
   "execution_count": 11,
   "metadata": {},
   "outputs": [
    {
     "data": {
      "text/plain": [
       "array([[1., 3.],\n",
       "       [0., 2.]])"
      ]
     },
     "execution_count": 11,
     "metadata": {},
     "output_type": "execute_result"
    }
   ],
   "source": [
    "np.array([[1,3],[0,2]])"
   ]
  },
  {
   "cell_type": "code",
   "execution_count": 24,
   "metadata": {},
   "outputs": [
    {
     "name": "stdout",
     "output_type": "stream",
     "text": [
      "Eigenvalue: 6.645751311064591\n",
      "Eigenvector: [0.7721779 0.6354064]\n",
      "\n",
      "Eigenvalue: 1.3542486889354095\n",
      "Eigenvector: [-0.48096517  0.8767397 ]\n",
      "\n"
     ]
    }
   ],
   "source": [
    "import numpy as np\n",
    " \n",
    "\n",
    "# Define the Hadamard matrix\n",
    "H = np.array([[5, 2],\n",
    "              [3, 3]])\n",
    "\n",
    "# Calculate eigenvalues and eigenvectors\n",
    "eigenvalues, eigenvectors = np.linalg.eig(H)\n",
    "\n",
    "# Print the eigenvalues and eigenvectors\n",
    "for i in range(len(eigenvalues)):\n",
    "    eigenvalue = eigenvalues[i]\n",
    "    eigenvector = eigenvectors[:, i]\n",
    "    print(\"Eigenvalue:\", eigenvalue)\n",
    "    print(\"Eigenvector:\", eigenvector)\n",
    "    print()"
   ]
  },
  {
   "cell_type": "code",
   "execution_count": 26,
   "metadata": {},
   "outputs": [],
   "source": [
    "A = np.array([[2, -1],\n",
    "              [4, 3]])"
   ]
  },
  {
   "cell_type": "code",
   "execution_count": 7,
   "metadata": {},
   "outputs": [
    {
     "name": "stdout",
     "output_type": "stream",
     "text": [
      "Covariance matrix:\n",
      "[[1.25       1.23905088 1.12111641]\n",
      " [1.23905088 1.25       1.13102338]\n",
      " [1.12111641 1.13102338 1.25      ]]\n",
      "\n",
      "Variance matrix:\n",
      "[1.25 1.25 1.25]\n",
      "\n",
      "Eigenvectors:\n",
      "[[-0.58285814 -0.42615995 -0.69185554]\n",
      " [-0.58442598 -0.3716999   0.72130816]\n",
      " [-0.56455528  0.82475868 -0.03241063]]\n",
      "\n",
      "Eigenvalues:\n",
      "[3.57829505 0.16098305 0.0107219 ]\n",
      "\n",
      "PC1:\n",
      "[-142.43674285 -154.01023053 -138.29398811 -162.66942753 -171.32862452]\n",
      "\n",
      "PC2:\n",
      "[-69.86861853 -71.86492409 -63.40504325 -71.73042991 -71.59593573]\n"
     ]
    }
   ],
   "source": [
    "import numpy as np\n",
    "from sklearn.preprocessing import StandardScaler \n",
    "# Sample data\n",
    "data = np.array([[160, 60, 25],\n",
    "                 [170, 65, 30],\n",
    "                 [155, 55, 28],\n",
    "                 [175, 70, 35],\n",
    "                 [180, 75, 40]])\n",
    "\n",
    "# Apply stdandarlization or mean centering \n",
    "std=StandardScaler()\n",
    "data_std=std.fit_transform(data)\n",
    "\n",
    "\n",
    "# Calculating the Cov-matrix\n",
    "cov_matrix = np.cov(data_std, rowvar=False)\n",
    "\n",
    "# Featching diagonal elements of covariance matrix that is variance\n",
    "variance_matrix = np.diag(cov_matrix)\n",
    "\n",
    "# Calculating the eigenvectors and eigenvalues of the covariance matrix\n",
    "eigenvalues, eigenvectors = np.linalg.eig(cov_matrix)\n",
    "\n",
    "# Sort eigenvalues and eigenvectors in descending order\n",
    "eigenvalue_indices = np.argsort(eigenvalues)[::-1]\n",
    "eigenvalues = eigenvalues[eigenvalue_indices]\n",
    "eigenvectors = eigenvectors[:, eigenvalue_indices]\n",
    "\n",
    "# Perform the transformation using eigenvectors\n",
    "transformed_data = np.dot(data, eigenvectors)\n",
    "\n",
    "# Calculate the first two principal components (PC1 and PC2)\n",
    "pc1 = transformed_data[:, 0]\n",
    "pc2 = transformed_data[:, 1]\n",
    "\n",
    "\n",
    "print(\"Covariance matrix:\")\n",
    "print(cov_matrix)\n",
    "print(\"\\nVariance matrix:\")\n",
    "print(variance_matrix)\n",
    "print(\"\\nEigenvectors:\")\n",
    "print(eigenvectors)\n",
    "print(\"\\nEigenvalues:\")\n",
    "print(eigenvalues)\n",
    "print(\"\\nPC1:\")\n",
    "print(pc1)\n",
    "print(\"\\nPC2:\")\n",
    "print(pc2)\n"
   ]
  }
 ],
 "metadata": {
  "kernelspec": {
   "display_name": "Python 3",
   "language": "python",
   "name": "python3"
  },
  "language_info": {
   "codemirror_mode": {
    "name": "ipython",
    "version": 3
   },
   "file_extension": ".py",
   "mimetype": "text/x-python",
   "name": "python",
   "nbconvert_exporter": "python",
   "pygments_lexer": "ipython3",
   "version": "3.10.7"
  },
  "orig_nbformat": 4
 },
 "nbformat": 4,
 "nbformat_minor": 2
}
