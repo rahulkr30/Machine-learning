{
 "cells": [
  {
   "cell_type": "code",
   "execution_count": 2,
   "metadata": {},
   "outputs": [],
   "source": [
    "import numpy as np \n",
    "from sklearn.decomposition import PCA\n",
    "from sklearn.datasets import load_iris "
   ]
  },
  {
   "cell_type": "code",
   "execution_count": 84,
   "metadata": {},
   "outputs": [],
   "source": [
    "iris=load_iris()"
   ]
  },
  {
   "cell_type": "code",
   "execution_count": 74,
   "metadata": {},
   "outputs": [],
   "source": [
    "X,y=load_iris(return_X_y=True)"
   ]
  },
  {
   "attachments": {},
   "cell_type": "markdown",
   "metadata": {},
   "source": [
    "# Covariance metrix \n"
   ]
  },
  {
   "cell_type": "code",
   "execution_count": 75,
   "metadata": {},
   "outputs": [
    {
     "name": "stdout",
     "output_type": "stream",
     "text": [
      "Covariance Matrix (Manual Calculation):\n",
      " [[ 0.68569351 -0.042434    1.27431544  0.51627069]\n",
      " [-0.042434    0.18997942 -0.32965638 -0.12163937]\n",
      " [ 1.27431544 -0.32965638  3.11627785  1.2956094 ]\n",
      " [ 0.51627069 -0.12163937  1.2956094   0.58100626]]\n",
      "\n",
      "Covariance Matrix (X_centered * X_centered^T):\n",
      " [[ 0.04904248  0.04855478  0.05172928 ... -0.03163672 -0.03412889\n",
      "  -0.02571949]\n",
      " [ 0.04855478  0.0500134   0.05278521 ... -0.03232575 -0.03575752\n",
      "  -0.02560316]\n",
      " [ 0.05172928  0.05278521  0.05616105 ... -0.03425193 -0.03687833\n",
      "  -0.02665685]\n",
      " ...\n",
      " [-0.03163672 -0.03232575 -0.03425193 ...  0.02117402  0.02324561\n",
      "   0.01648722]\n",
      " [-0.03412889 -0.03575752 -0.03687833 ...  0.02324561  0.02786753\n",
      "   0.01922995]\n",
      " [-0.02571949 -0.02560316 -0.02665685 ...  0.01648722  0.01922995\n",
      "   0.0145521 ]]\n",
      "\n",
      "Covariance Matrix (X_centered^T * X_centered):\n",
      " [[ 0.68569351 -0.042434    1.27431544  0.51627069]\n",
      " [-0.042434    0.18997942 -0.32965638 -0.12163937]\n",
      " [ 1.27431544 -0.32965638  3.11627785  1.2956094 ]\n",
      " [ 0.51627069 -0.12163937  1.2956094   0.58100626]]\n"
     ]
    }
   ],
   "source": [
    "mean_X = np.mean(X, axis=0)\n",
    "\n",
    "X_centered = X - mean_X\n",
    "\n",
    "n = X.shape[0]\n",
    "\n",
    "# Covariance matrix using the manual formula\n",
    "cov_manual = (1 / (n - 1)) * np.dot(X_centered.T, X_centered)\n",
    "\n",
    "# Covariance matrix using X_centered * X_centered^T\n",
    "cov_X = np.dot(X_centered, X_centered.T) / (n - 1)\n",
    "\n",
    "# Covariance matrix using X_centered^T * X_centered\n",
    "cov_XT = np.dot(X_centered.T, X_centered) / (n - 1)\n",
    "\n",
    "print(\"Covariance Matrix (Manual Calculation):\\n\", cov_manual)\n",
    "print(\"\\nCovariance Matrix (X_centered * X_centered^T):\\n\", cov_X)\n",
    "print(\"\\nCovariance Matrix (X_centered^T * X_centered):\\n\", cov_XT)\n"
   ]
  },
  {
   "cell_type": "code",
   "execution_count": 12,
   "metadata": {},
   "outputs": [
    {
     "data": {
      "text/plain": [
       "array([[-1.06937444e-01, -5.31164840e-02,  8.17734010e-03, ...,\n",
       "         5.43380310e-02,  1.96438400e-03,  2.46978090e-03],\n",
       "       [-1.08133305e-01,  2.94357038e-02,  6.16531816e-02, ...,\n",
       "         5.12936114e-03,  8.48544595e-02,  5.83496936e-03],\n",
       "       [-1.15099407e-01,  2.41054172e-02, -5.24368218e-03, ...,\n",
       "         2.75184277e-02,  1.78604309e-01,  1.49419118e-01],\n",
       "       ...,\n",
       "       [ 7.02927688e-02, -1.31144057e-02, -3.82231512e-02, ...,\n",
       "         9.89532683e-01, -1.25488246e-02, -7.17729676e-04],\n",
       "       [ 7.57348450e-02, -1.93954931e-02, -2.11868549e-01, ...,\n",
       "        -1.41206665e-02,  9.52049996e-01, -2.32048811e-02],\n",
       "       [ 5.53860977e-02,  4.70071528e-02, -1.06310369e-01, ...,\n",
       "        -8.30595907e-04, -2.19201906e-02,  9.77300244e-01]])"
      ]
     },
     "execution_count": 12,
     "metadata": {},
     "output_type": "execute_result"
    }
   ],
   "source": [
    "np.linalg.svd(X_centered)[0]"
   ]
  },
  {
   "cell_type": "code",
   "execution_count": 37,
   "metadata": {},
   "outputs": [],
   "source": [
    "u,sigma,v_t=np.linalg.svd(X_centered)"
   ]
  },
  {
   "cell_type": "code",
   "execution_count": 57,
   "metadata": {},
   "outputs": [],
   "source": [
    "v=v_t.T"
   ]
  },
  {
   "cell_type": "code",
   "execution_count": 79,
   "metadata": {},
   "outputs": [
    {
     "name": "stdout",
     "output_type": "stream",
     "text": [
      "\n",
      "Principal Components:\n",
      " [[ 0.36138659 -0.65658877]\n",
      " [-0.08452251 -0.73016143]\n",
      " [ 0.85667061  0.17337266]\n",
      " [ 0.3582892   0.07548102]]\n",
      "\n",
      "Transformed Data:\n",
      " [[-2.68412563 -0.31939725]\n",
      " [-2.71414169  0.17700123]\n",
      " [-2.88899057  0.14494943]\n",
      " [-2.74534286  0.31829898]\n",
      " [-2.72871654 -0.32675451]\n",
      " [-2.28085963 -0.74133045]\n",
      " [-2.82053775  0.08946138]\n",
      " [-2.62614497 -0.16338496]\n",
      " [-2.88638273  0.57831175]\n",
      " [-2.6727558   0.11377425]\n",
      " [-2.50694709 -0.6450689 ]\n",
      " [-2.61275523 -0.01472994]\n",
      " [-2.78610927  0.235112  ]\n",
      " [-3.22380374  0.51139459]\n",
      " [-2.64475039 -1.17876464]\n",
      " [-2.38603903 -1.33806233]\n",
      " [-2.62352788 -0.81067951]\n",
      " [-2.64829671 -0.31184914]\n",
      " [-2.19982032 -0.87283904]\n",
      " [-2.5879864  -0.51356031]\n",
      " [-2.31025622 -0.39134594]\n",
      " [-2.54370523 -0.43299606]\n",
      " [-3.21593942 -0.13346807]\n",
      " [-2.30273318 -0.09870885]\n",
      " [-2.35575405  0.03728186]\n",
      " [-2.50666891  0.14601688]\n",
      " [-2.46882007 -0.13095149]\n",
      " [-2.56231991 -0.36771886]\n",
      " [-2.63953472 -0.31203998]\n",
      " [-2.63198939  0.19696122]\n",
      " [-2.58739848  0.20431849]\n",
      " [-2.4099325  -0.41092426]\n",
      " [-2.64886233 -0.81336382]\n",
      " [-2.59873675 -1.09314576]\n",
      " [-2.63692688  0.12132235]\n",
      " [-2.86624165 -0.06936447]\n",
      " [-2.62523805 -0.59937002]\n",
      " [-2.80068412 -0.26864374]\n",
      " [-2.98050204  0.48795834]\n",
      " [-2.59000631 -0.22904384]\n",
      " [-2.77010243 -0.26352753]\n",
      " [-2.84936871  0.94096057]\n",
      " [-2.99740655  0.34192606]\n",
      " [-2.40561449 -0.18887143]\n",
      " [-2.20948924 -0.43666314]\n",
      " [-2.71445143  0.2502082 ]\n",
      " [-2.53814826 -0.50377114]\n",
      " [-2.83946217  0.22794557]\n",
      " [-2.54308575 -0.57941002]\n",
      " [-2.70335978 -0.10770608]\n",
      " [ 1.28482569 -0.68516047]\n",
      " [ 0.93248853 -0.31833364]\n",
      " [ 1.46430232 -0.50426282]\n",
      " [ 0.18331772  0.82795901]\n",
      " [ 1.08810326 -0.07459068]\n",
      " [ 0.64166908  0.41824687]\n",
      " [ 1.09506066 -0.28346827]\n",
      " [-0.74912267  1.00489096]\n",
      " [ 1.04413183 -0.2283619 ]\n",
      " [-0.0087454   0.72308191]\n",
      " [-0.50784088  1.26597119]\n",
      " [ 0.51169856  0.10398124]\n",
      " [ 0.26497651  0.55003646]\n",
      " [ 0.98493451  0.12481785]\n",
      " [-0.17392537  0.25485421]\n",
      " [ 0.92786078 -0.46717949]\n",
      " [ 0.66028376  0.35296967]\n",
      " [ 0.23610499  0.33361077]\n",
      " [ 0.94473373  0.54314555]\n",
      " [ 0.04522698  0.58383438]\n",
      " [ 1.11628318  0.08461685]\n",
      " [ 0.35788842  0.06892503]\n",
      " [ 1.29818388  0.32778731]\n",
      " [ 0.92172892  0.18273779]\n",
      " [ 0.71485333 -0.14905594]\n",
      " [ 0.90017437 -0.32850447]\n",
      " [ 1.33202444 -0.24444088]\n",
      " [ 1.55780216 -0.26749545]\n",
      " [ 0.81329065  0.1633503 ]\n",
      " [-0.30558378  0.36826219]\n",
      " [-0.06812649  0.70517213]\n",
      " [-0.18962247  0.68028676]\n",
      " [ 0.13642871  0.31403244]\n",
      " [ 1.38002644  0.42095429]\n",
      " [ 0.58800644  0.48428742]\n",
      " [ 0.80685831 -0.19418231]\n",
      " [ 1.22069088 -0.40761959]\n",
      " [ 0.81509524  0.37203706]\n",
      " [ 0.24595768  0.2685244 ]\n",
      " [ 0.16641322  0.68192672]\n",
      " [ 0.46480029  0.67071154]\n",
      " [ 0.8908152   0.03446444]\n",
      " [ 0.23054802  0.40438585]\n",
      " [-0.70453176  1.01224823]\n",
      " [ 0.35698149  0.50491009]\n",
      " [ 0.33193448  0.21265468]\n",
      " [ 0.37621565  0.29321893]\n",
      " [ 0.64257601 -0.01773819]\n",
      " [-0.90646986  0.75609337]\n",
      " [ 0.29900084  0.34889781]\n",
      " [ 2.53119273  0.00984911]\n",
      " [ 1.41523588  0.57491635]\n",
      " [ 2.61667602 -0.34390315]\n",
      " [ 1.97153105  0.1797279 ]\n",
      " [ 2.35000592  0.04026095]\n",
      " [ 3.39703874 -0.55083667]\n",
      " [ 0.52123224  1.19275873]\n",
      " [ 2.93258707 -0.3555    ]\n",
      " [ 2.32122882  0.2438315 ]\n",
      " [ 2.91675097 -0.78279195]\n",
      " [ 1.66177415 -0.24222841]\n",
      " [ 1.80340195  0.21563762]\n",
      " [ 2.1655918  -0.21627559]\n",
      " [ 1.34616358  0.77681835]\n",
      " [ 1.58592822  0.53964071]\n",
      " [ 1.90445637 -0.11925069]\n",
      " [ 1.94968906 -0.04194326]\n",
      " [ 3.48705536 -1.17573933]\n",
      " [ 3.79564542 -0.25732297]\n",
      " [ 1.30079171  0.76114964]\n",
      " [ 2.42781791 -0.37819601]\n",
      " [ 1.19900111  0.60609153]\n",
      " [ 3.49992004 -0.4606741 ]\n",
      " [ 1.38876613  0.20439933]\n",
      " [ 2.2754305  -0.33499061]\n",
      " [ 2.61409047 -0.56090136]\n",
      " [ 1.25850816  0.17970479]\n",
      " [ 1.29113206  0.11666865]\n",
      " [ 2.12360872  0.20972948]\n",
      " [ 2.38800302 -0.4646398 ]\n",
      " [ 2.84167278 -0.37526917]\n",
      " [ 3.23067366 -1.37416509]\n",
      " [ 2.15943764  0.21727758]\n",
      " [ 1.44416124  0.14341341]\n",
      " [ 1.78129481  0.49990168]\n",
      " [ 3.07649993 -0.68808568]\n",
      " [ 2.14424331 -0.1400642 ]\n",
      " [ 1.90509815 -0.04930053]\n",
      " [ 1.16932634  0.16499026]\n",
      " [ 2.10761114 -0.37228787]\n",
      " [ 2.31415471 -0.18365128]\n",
      " [ 1.9222678  -0.40920347]\n",
      " [ 1.41523588  0.57491635]\n",
      " [ 2.56301338 -0.2778626 ]\n",
      " [ 2.41874618 -0.3047982 ]\n",
      " [ 1.94410979 -0.1875323 ]\n",
      " [ 1.52716661  0.37531698]\n",
      " [ 1.76434572 -0.07885885]\n",
      " [ 1.90094161 -0.11662796]\n",
      " [ 1.39018886  0.28266094]]\n"
     ]
    }
   ],
   "source": [
    "# Demo \n",
    "\n",
    "U, singular_values, VT = np.linalg.svd(X_centered)\n",
    "V=v_t.T\n",
    "selected_components = 2\n",
    "principal_components = V[:,:selected_components]\n",
    "\n",
    "#Projection\n",
    "transformed_data = np.dot(X_centered,principal_components)\n",
    "\n",
    "\n",
    "print(\"\\nPrincipal Components:\\n\", principal_components)\n",
    "print(\"\\nTransformed Data:\\n\", transformed_data)\n"
   ]
  },
  {
   "cell_type": "code",
   "execution_count": 80,
   "metadata": {},
   "outputs": [],
   "source": [
    "import matplotlib.pyplot as plt"
   ]
  },
  {
   "cell_type": "code",
   "execution_count": 85,
   "metadata": {},
   "outputs": [
    {
     "data": {
      "text/plain": [
       "<matplotlib.collections.PathCollection at 0x1f31b5e51e0>"
      ]
     },
     "execution_count": 85,
     "metadata": {},
     "output_type": "execute_result"
    },
    {
     "data": {
      "image/png": "[encoded data removed]",
      "text/plain": [
       "<Figure size 432x288 with 1 Axes>"
      ]
     },
     "metadata": {
      "needs_background": "light"
     },
     "output_type": "display_data"
    }
   ],
   "source": [
    "plt.scatter( transformed_data[:,0], transformed_data[:,1],c=iris.target)"
   ]
  },
  {
   "cell_type": "code",
   "execution_count": 86,
   "metadata": {},
   "outputs": [],
   "source": [
    "pca=PCA(n_components=2)"
   ]
  },
  {
   "cell_type": "code",
   "execution_count": 88,
   "metadata": {},
   "outputs": [
    {
     "data": {
      "text/plain": [
       "array([[-2.68412563,  0.31939725],\n",
       "       [-2.71414169, -0.17700123],\n",
       "       [-2.88899057, -0.14494943],\n",
       "       [-2.74534286, -0.31829898],\n",
       "       [-2.72871654,  0.32675451],\n",
       "       [-2.28085963,  0.74133045],\n",
       "       [-2.82053775, -0.08946138],\n",
       "       [-2.62614497,  0.16338496],\n",
       "       [-2.88638273, -0.57831175],\n",
       "       [-2.6727558 , -0.11377425],\n",
       "       [-2.50694709,  0.6450689 ],\n",
       "       [-2.61275523,  0.01472994],\n",
       "       [-2.78610927, -0.235112  ],\n",
       "       [-3.22380374, -0.51139459],\n",
       "       [-2.64475039,  1.17876464],\n",
       "       [-2.38603903,  1.33806233],\n",
       "       [-2.62352788,  0.81067951],\n",
       "       [-2.64829671,  0.31184914],\n",
       "       [-2.19982032,  0.87283904],\n",
       "       [-2.5879864 ,  0.51356031],\n",
       "       [-2.31025622,  0.39134594],\n",
       "       [-2.54370523,  0.43299606],\n",
       "       [-3.21593942,  0.13346807],\n",
       "       [-2.30273318,  0.09870885],\n",
       "       [-2.35575405, -0.03728186],\n",
       "       [-2.50666891, -0.14601688],\n",
       "       [-2.46882007,  0.13095149],\n",
       "       [-2.56231991,  0.36771886],\n",
       "       [-2.63953472,  0.31203998],\n",
       "       [-2.63198939, -0.19696122],\n",
       "       [-2.58739848, -0.20431849],\n",
       "       [-2.4099325 ,  0.41092426],\n",
       "       [-2.64886233,  0.81336382],\n",
       "       [-2.59873675,  1.09314576],\n",
       "       [-2.63692688, -0.12132235],\n",
       "       [-2.86624165,  0.06936447],\n",
       "       [-2.62523805,  0.59937002],\n",
       "       [-2.80068412,  0.26864374],\n",
       "       [-2.98050204, -0.48795834],\n",
       "       [-2.59000631,  0.22904384],\n",
       "       [-2.77010243,  0.26352753],\n",
       "       [-2.84936871, -0.94096057],\n",
       "       [-2.99740655, -0.34192606],\n",
       "       [-2.40561449,  0.18887143],\n",
       "       [-2.20948924,  0.43666314],\n",
       "       [-2.71445143, -0.2502082 ],\n",
       "       [-2.53814826,  0.50377114],\n",
       "       [-2.83946217, -0.22794557],\n",
       "       [-2.54308575,  0.57941002],\n",
       "       [-2.70335978,  0.10770608],\n",
       "       [ 1.28482569,  0.68516047],\n",
       "       [ 0.93248853,  0.31833364],\n",
       "       [ 1.46430232,  0.50426282],\n",
       "       [ 0.18331772, -0.82795901],\n",
       "       [ 1.08810326,  0.07459068],\n",
       "       [ 0.64166908, -0.41824687],\n",
       "       [ 1.09506066,  0.28346827],\n",
       "       [-0.74912267, -1.00489096],\n",
       "       [ 1.04413183,  0.2283619 ],\n",
       "       [-0.0087454 , -0.72308191],\n",
       "       [-0.50784088, -1.26597119],\n",
       "       [ 0.51169856, -0.10398124],\n",
       "       [ 0.26497651, -0.55003646],\n",
       "       [ 0.98493451, -0.12481785],\n",
       "       [-0.17392537, -0.25485421],\n",
       "       [ 0.92786078,  0.46717949],\n",
       "       [ 0.66028376, -0.35296967],\n",
       "       [ 0.23610499, -0.33361077],\n",
       "       [ 0.94473373, -0.54314555],\n",
       "       [ 0.04522698, -0.58383438],\n",
       "       [ 1.11628318, -0.08461685],\n",
       "       [ 0.35788842, -0.06892503],\n",
       "       [ 1.29818388, -0.32778731],\n",
       "       [ 0.92172892, -0.18273779],\n",
       "       [ 0.71485333,  0.14905594],\n",
       "       [ 0.90017437,  0.32850447],\n",
       "       [ 1.33202444,  0.24444088],\n",
       "       [ 1.55780216,  0.26749545],\n",
       "       [ 0.81329065, -0.1633503 ],\n",
       "       [-0.30558378, -0.36826219],\n",
       "       [-0.06812649, -0.70517213],\n",
       "       [-0.18962247, -0.68028676],\n",
       "       [ 0.13642871, -0.31403244],\n",
       "       [ 1.38002644, -0.42095429],\n",
       "       [ 0.58800644, -0.48428742],\n",
       "       [ 0.80685831,  0.19418231],\n",
       "       [ 1.22069088,  0.40761959],\n",
       "       [ 0.81509524, -0.37203706],\n",
       "       [ 0.24595768, -0.2685244 ],\n",
       "       [ 0.16641322, -0.68192672],\n",
       "       [ 0.46480029, -0.67071154],\n",
       "       [ 0.8908152 , -0.03446444],\n",
       "       [ 0.23054802, -0.40438585],\n",
       "       [-0.70453176, -1.01224823],\n",
       "       [ 0.35698149, -0.50491009],\n",
       "       [ 0.33193448, -0.21265468],\n",
       "       [ 0.37621565, -0.29321893],\n",
       "       [ 0.64257601,  0.01773819],\n",
       "       [-0.90646986, -0.75609337],\n",
       "       [ 0.29900084, -0.34889781],\n",
       "       [ 2.53119273, -0.00984911],\n",
       "       [ 1.41523588, -0.57491635],\n",
       "       [ 2.61667602,  0.34390315],\n",
       "       [ 1.97153105, -0.1797279 ],\n",
       "       [ 2.35000592, -0.04026095],\n",
       "       [ 3.39703874,  0.55083667],\n",
       "       [ 0.52123224, -1.19275873],\n",
       "       [ 2.93258707,  0.3555    ],\n",
       "       [ 2.32122882, -0.2438315 ],\n",
       "       [ 2.91675097,  0.78279195],\n",
       "       [ 1.66177415,  0.24222841],\n",
       "       [ 1.80340195, -0.21563762],\n",
       "       [ 2.1655918 ,  0.21627559],\n",
       "       [ 1.34616358, -0.77681835],\n",
       "       [ 1.58592822, -0.53964071],\n",
       "       [ 1.90445637,  0.11925069],\n",
       "       [ 1.94968906,  0.04194326],\n",
       "       [ 3.48705536,  1.17573933],\n",
       "       [ 3.79564542,  0.25732297],\n",
       "       [ 1.30079171, -0.76114964],\n",
       "       [ 2.42781791,  0.37819601],\n",
       "       [ 1.19900111, -0.60609153],\n",
       "       [ 3.49992004,  0.4606741 ],\n",
       "       [ 1.38876613, -0.20439933],\n",
       "       [ 2.2754305 ,  0.33499061],\n",
       "       [ 2.61409047,  0.56090136],\n",
       "       [ 1.25850816, -0.17970479],\n",
       "       [ 1.29113206, -0.11666865],\n",
       "       [ 2.12360872, -0.20972948],\n",
       "       [ 2.38800302,  0.4646398 ],\n",
       "       [ 2.84167278,  0.37526917],\n",
       "       [ 3.23067366,  1.37416509],\n",
       "       [ 2.15943764, -0.21727758],\n",
       "       [ 1.44416124, -0.14341341],\n",
       "       [ 1.78129481, -0.49990168],\n",
       "       [ 3.07649993,  0.68808568],\n",
       "       [ 2.14424331,  0.1400642 ],\n",
       "       [ 1.90509815,  0.04930053],\n",
       "       [ 1.16932634, -0.16499026],\n",
       "       [ 2.10761114,  0.37228787],\n",
       "       [ 2.31415471,  0.18365128],\n",
       "       [ 1.9222678 ,  0.40920347],\n",
       "       [ 1.41523588, -0.57491635],\n",
       "       [ 2.56301338,  0.2778626 ],\n",
       "       [ 2.41874618,  0.3047982 ],\n",
       "       [ 1.94410979,  0.1875323 ],\n",
       "       [ 1.52716661, -0.37531698],\n",
       "       [ 1.76434572,  0.07885885],\n",
       "       [ 1.90094161,  0.11662796],\n",
       "       [ 1.39018886, -0.28266094]])"
      ]
     },
     "execution_count": 88,
     "metadata": {},
     "output_type": "execute_result"
    }
   ],
   "source": [
    "pca.fit_transform(X)"
   ]
  },
  {
   "cell_type": "code",
   "execution_count": 89,
   "metadata": {},
   "outputs": [
    {
     "data": {
      "text/plain": [
       "array([[ 0.36138659, -0.08452251,  0.85667061,  0.3582892 ],\n",
       "       [ 0.65658877,  0.73016143, -0.17337266, -0.07548102]])"
      ]
     },
     "execution_count": 89,
     "metadata": {},
     "output_type": "execute_result"
    }
   ],
   "source": [
    "pca.components_"
   ]
  },
  {
   "attachments": {},
   "cell_type": "markdown",
   "metadata": {},
   "source": [
    "Principal Components:\n",
    " [[ 0.36138659 -0.65658877]\n",
    " [-0.08452251 -0.73016143]\n",
    " [ 0.85667061  0.17337266]\n",
    " [ 0.3582892   0.07548102]]"
   ]
  },
  {
   "cell_type": "code",
   "execution_count": 90,
   "metadata": {},
   "outputs": [
    {
     "data": {
      "text/plain": [
       "array([25.09996044,  6.01314738,  3.41368064,  1.88452351])"
      ]
     },
     "execution_count": 90,
     "metadata": {},
     "output_type": "execute_result"
    }
   ],
   "source": [
    "sigma"
   ]
  },
  {
   "cell_type": "code",
   "execution_count": 91,
   "metadata": {},
   "outputs": [
    {
     "data": {
      "text/plain": [
       "array([4.22824171, 0.24267075])"
      ]
     },
     "execution_count": 91,
     "metadata": {},
     "output_type": "execute_result"
    }
   ],
   "source": [
    "PCA()"
   ]
  }
 ],
 "metadata": {
  "kernelspec": {
   "display_name": "Python 3",
   "language": "python",
   "name": "python3"
  },
  "language_info": {
   "codemirror_mode": {
    "name": "ipython",
    "version": 3
   },
   "file_extension": ".py",
   "mimetype": "text/x-python",
   "name": "python",
   "nbconvert_exporter": "python",
   "pygments_lexer": "ipython3",
   "version": "3.10.7"
  },
  "orig_nbformat": 4
 },
 "nbformat": 4,
 "nbformat_minor": 2
}
