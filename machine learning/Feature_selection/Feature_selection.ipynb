{
 "cells": [
  {
   "attachments": {},
   "cell_type": "markdown",
   "metadata": {},
   "source": [
    "### <div style=\"text-align:center;background-color: pink; padding: 20px;color: Black\"> <b>Feature selection</b></div>"
   ]
  },
  {
   "attachments": {},
   "cell_type": "markdown",
   "metadata": {},
   "source": [
    "# <b>``Feature selection``<b> \n",
    "It is a technique used in machine learning to identify and select the most relevant and informative features from a dataset. The goal of feature selection is to improve the performance and accuracy of machine learning models by reducing the dimensionality of the data and removing irrelevant or redundant features."
   ]
  },
  {
   "attachments": {},
   "cell_type": "markdown",
   "metadata": {},
   "source": [
    "##### The <b>`curse of dimensionality`</b> refers to the fact that many machine learning algorithms face significant challenges when dealing with high-dimensional data. As the number of dimensions (or features) in a dataset increases, the volume of the data space grows exponentially, making it difficult to obtain a representative sample of the data and to accurately estimate relationships between variables.\n",
    "\n",
    "\n",
    "\n",
    "<span style='color:pink'>This can lead to several issues, including</span>\n",
    "\n",
    "- `Sparsity`: As the number of dimensions increases, the available data become more sparse, making it difficult to identify patterns and relationships in the data.\n",
    "\n",
    "\n",
    "- `Overfitting:` High-dimensional data can lead to overfitting, where a machine learning model becomes overly complex and fits the noise in the data instead of the underlying patterns.\n",
    "\n",
    "- `Increased computational complexity: ` As the dimensionality of the data increases, the computational requirements for processing and analyzing the data also increase, leading to slower training times and increased resource usage.\n",
    "\n",
    "> **To address the curse of dimensionality, several techniques can be used, including feature selection, dimensionality reduction, and regularization. These techniques can help to reduce the number of features and improve the performance and efficiency of machine learning models when dealing with high-dimensional data.**"
   ]
  },
  {
   "attachments": {},
   "cell_type": "markdown",
   "metadata": {},
   "source": [
    "# Duplicate Features\n",
    "\n"
   ]
  },
  {
   "attachments": {},
   "cell_type": "markdown",
   "metadata": {},
   "source": [
    "# `Variance Threshold Feature Selection`\n",
    "Variance threshold feature selection is a filter-based method for selecting features in machine learning that is based on the variance of each feature in the dataset. The method discards features with low variance, as they are less informative for the classification task.\n",
    "\n",
    "##### `The Concept of Variance`\n",
    "Variance is a measure of how much the values of a feature vary from the mean. Features with high variance have a wide range of values, while features with low variance have a narrow range of values.\n",
    "\n",
    "#### `Constant Features`\n",
    "Features that have the same value for all instances in the dataset are known as constant features. Constant features have zero variance, as the values do not vary at all. Such features are not informative for the classification task and can be safely removed from the dataset.\n",
    "\n",
    "#### `Quasi-Constant Features`\n",
    "Quasi-constant features are features that have almost the same value for almost all samples in the dataset. These features have very low variance and are also not informative for the machine learning model. They can be removed from the dataset using the Variance Threshold method.\n",
    "\n",
    "To determine whether a feature is quasi-constant, we can set a threshold for the variance and remove all features with variance below that threshold. A commonly used threshold is 0.01, which means that features with more than 99% of the same value are removed.\n",
    "\n",
    "\n",
    "\n",
    "### `Variance Thresholding`\n",
    "The variance thresholding method works by setting a threshold for the minimum variance of features. Features with variance below the threshold are discarded, while features with variance above the threshold are retained.\n",
    "\n",
    "The appropriate value for the threshold depends on the dataset and the classification task. A higher threshold value retains fewer features, while a lower threshold value retains more features."
   ]
  },
  {
   "attachments": {},
   "cell_type": "markdown",
   "metadata": {},
   "source": [
    "### `Interactive Demonstration`\n",
    "Let's now explore the concept of variance thresholding using an interactive demonstration. We will use the Breast Cancer Wisconsin dataset from scikit-learn and apply variance thresholding to the dataset.\n",
    "\n",
    "First, let's import the necessary libraries and load the dataset."
   ]
  },
  {
   "cell_type": "code",
   "execution_count": 7,
   "metadata": {},
   "outputs": [],
   "source": [
    "import numpy as np\n",
    "import pandas as pd\n",
    "from sklearn.datasets import load_breast_cancer\n",
    "\n",
    "data = load_breast_cancer()\n",
    "df = pd.DataFrame(data['data'], columns=data['feature_names'])"
   ]
  },
  {
   "attachments": {},
   "cell_type": "markdown",
   "metadata": {},
   "source": [
    "Now, let's apply variance thresholding to the dataset using scikit-learn's VarianceThreshold class."
   ]
  },
  {
   "cell_type": "code",
   "execution_count": 8,
   "metadata": {},
   "outputs": [
    {
     "name": "stdout",
     "output_type": "stream",
     "text": [
      "Number of features before thresholding: 30\n",
      "Number of features after thresholding: 14\n"
     ]
    }
   ],
   "source": [
    "from sklearn.feature_selection import VarianceThreshold\n",
    "\n",
    "selector = VarianceThreshold(threshold=0.01)\n",
    "X_new = selector.fit_transform(df)\n",
    "print(f\"Number of features before thresholding: {df.shape[1]}\")\n",
    "print(f\"Number of features after thresholding: {X_new.shape[1]}\")"
   ]
  },
  {
   "cell_type": "code",
   "execution_count": null,
   "metadata": {},
   "outputs": [],
   "source": [
    "# it returns output in array form so make sure column names are copy beform applying this method."
   ]
  },
  {
   "attachments": {},
   "cell_type": "markdown",
   "metadata": {},
   "source": [
    "We have set the threshold value to 0.01, which means that features with variance below 0.01 will be discarded. Let's see how many features are retained and how many are discarded.We can see that the variance thresholding method has discarded 16 features with low variance, retaining only 14 informative features."
   ]
  },
  {
   "cell_type": "code",
   "execution_count": 9,
   "metadata": {},
   "outputs": [],
   "source": [
    "import matplotlib.pyplot as plt"
   ]
  },
  {
   "cell_type": "code",
   "execution_count": 10,
   "metadata": {},
   "outputs": [
    {
     "data": {
      "image/png": "[encoded data removed]",
      "text/plain": [
       "<Figure size 432x288 with 1 Axes>"
      ]
     },
     "metadata": {
      "needs_background": "light"
     },
     "output_type": "display_data"
    }
   ],
   "source": [
    "variances = df.var()\n",
    "\n",
    "# plot variances\n",
    "plt.plot(sorted(variances, reverse=True))\n",
    "plt.xlabel('Features')\n",
    "plt.ylabel('Variance')\n",
    "plt.title('Variance of Features')\n",
    "plt.show()"
   ]
  },
  {
   "attachments": {},
   "cell_type": "markdown",
   "metadata": {},
   "source": [
    "# Points to Consider\n",
    "1. Ignores Target Variable: Variance Threshold is a univariate method, meaning it\n",
    "evaluates each feature independently and doesn't consider the relationship between\n",
    "each feature and the target variable. This means it may keep irrelevant features that\n",
    "have a high variance but no relationship with the target, or discard potentially useful\n",
    "features that have a low variance but a strong relationship with the target.\n",
    "\n",
    "\n",
    "2. Ignores Feature Interactions: Variance Threshold doesn't account for interactions\n",
    "between features. A feature with a low variance may become very informative when\n",
    "combined with another feature.\n",
    "\n",
    "\n",
    "3. Sensitive to Data Scaling: Variance Threshold is sensitive to the scale of the data. If\n",
    "features are not on the same scale, the variance will naturally be higher for features\n",
    "with larger values. Therefore, it is important to standardize the features before\n",
    "applying Variance Threshold.\n",
    "\n",
    "\n",
    "4. Arbitrary Threshold Value: It's up to the user to define what constitutes a \"low\"\n",
    "variance. The threshold is not"
   ]
  },
  {
   "attachments": {},
   "cell_type": "markdown",
   "metadata": {},
   "source": [
    "# <span style='color:pink'> Correlation-based Feature Selection </span>\n",
    "Correlation-based feature selection is a filter-based method for selecting features in machine learning that is based on the correlation between features. The method discards features that are highly correlated with other features, as they provide redundant information and can negatively impact the performance of the machine learning model.\n",
    "\n",
    "### `The Concept of Correlation`\n",
    "Correlation is a statistical measure that describes the relationship between two variables. In the context of feature selection, correlation is used to measure the relationship between each pair of features in the dataset.\n",
    "\n",
    "### ``Pearson's Correlation Coefficient``\n",
    "The most common measure of correlation is Pearson's correlation coefficient, which is a value between -1 and 1 that describes the linear relationship between two variables. A correlation coefficient of 1 indicates a perfect positive correlation, a correlation coefficient of -1 indicates a perfect negative correlation, and a correlation coefficient of 0 indicates no correlation.\n",
    "\n",
    "### `Correlation-based Feature Selection`\n",
    "The correlation-based feature selection method works by calculating the correlation between each pair of features in the dataset and selecting the features that are least correlated with other features.\n",
    "\n",
    "The appropriate threshold for the correlation coefficient depends on the dataset and the classification task. A higher threshold value retains fewer features, while a lower threshold value retains more features."
   ]
  },
  {
   "cell_type": "code",
   "execution_count": 3,
   "metadata": {},
   "outputs": [
    {
     "name": "stdout",
     "output_type": "stream",
     "text": [
      "['worst concave points', 'worst perimeter', 'mean concave points']\n"
     ]
    }
   ],
   "source": [
    "from sklearn.datasets import load_breast_cancer\n",
    "import pandas as pd\n",
    "\n",
    "# Load the breast cancer dataset into a Pandas dataframe\n",
    "data = load_breast_cancer(as_frame=True)\n",
    "X = data.data\n",
    "y = data.target\n",
    "df = pd.concat([X, y], axis=1)\n",
    "\n",
    "# Compute the correlation coefficients between each feature and the target variable (target)\n",
    "corr_matrix = df.corr()\n",
    "corr_with_target = corr_matrix['target']\n",
    "\n",
    "# Sort the correlation coefficients in descending order\n",
    "corr_sorted = corr_with_target.abs().sort_values(ascending=False)\n",
    "\n",
    "# Select the top-ranked features based on the correlation coefficients\n",
    "relevant_features = corr_sorted[1:4].index.tolist()\n",
    "\n",
    "# Print the relevant features\n",
    "print(relevant_features)\n"
   ]
  },
  {
   "cell_type": "code",
   "execution_count": 8,
   "metadata": {},
   "outputs": [
    {
     "data": {
      "text/plain": [
       "target                     1.000000\n",
       "worst concave points       0.793566\n",
       "worst perimeter            0.782914\n",
       "mean concave points        0.776614\n",
       "worst radius               0.776454\n",
       "mean perimeter             0.742636\n",
       "worst area                 0.733825\n",
       "mean radius                0.730029\n",
       "mean area                  0.708984\n",
       "mean concavity             0.696360\n",
       "worst concavity            0.659610\n",
       "mean compactness           0.596534\n",
       "worst compactness          0.590998\n",
       "radius error               0.567134\n",
       "perimeter error            0.556141\n",
       "area error                 0.548236\n",
       "worst texture              0.456903\n",
       "worst smoothness           0.421465\n",
       "worst symmetry             0.416294\n",
       "mean texture               0.415185\n",
       "concave points error       0.408042\n",
       "mean smoothness            0.358560\n",
       "mean symmetry              0.330499\n",
       "worst fractal dimension    0.323872\n",
       "compactness error          0.292999\n",
       "concavity error            0.253730\n",
       "fractal dimension error    0.077972\n",
       "smoothness error           0.067016\n",
       "mean fractal dimension     0.012838\n",
       "texture error              0.008303\n",
       "symmetry error             0.006522\n",
       "Name: target, dtype: float64"
      ]
     },
     "execution_count": 8,
     "metadata": {},
     "output_type": "execute_result"
    }
   ],
   "source": [
    "corr_matrix['target'].abs().sort_values(ascending=False)"
   ]
  },
  {
   "cell_type": "code",
   "execution_count": 10,
   "metadata": {},
   "outputs": [],
   "source": [
    "import numpy as np \n"
   ]
  },
  {
   "cell_type": "code",
   "execution_count": 12,
   "metadata": {},
   "outputs": [],
   "source": [
    "mask = np.triu(np.ones(corr_matrix.shape), k=1).astype(bool)\n",
    "high_corr = corr_matrix.abs() > 0.8\n",
    "mask &= high_corr\n",
    "\n",
    "# Find the indices of the variables to remove\n",
    "to_remove = [column for column in high_corr.columns if any(high_corr[column])]\n",
    "\n"
   ]
  },
  {
   "cell_type": "code",
   "execution_count": 52,
   "metadata": {},
   "outputs": [],
   "source": [
    "\n",
    "# Compute the correlation matrix\n",
    "corr_matrix =df.corr().abs()\n",
    "\n",
    "# Create a mask for highly correlated variables\n",
    "mask = np.triu(np.ones(corr_matrix.shape), k=1).astype(bool)\n",
    "high_corr = corr_matrix.where(mask)\n",
    "to_drop = [column for column in high_corr.columns if any(high_corr[column] > 0.95)]"
   ]
  },
  {
   "cell_type": "code",
   "execution_count": 54,
   "metadata": {},
   "outputs": [
    {
     "name": "stdout",
     "output_type": "stream",
     "text": [
      "7\n"
     ]
    }
   ],
   "source": [
    "# Get the column names of the DataFrame\n",
    "columns = corr_matrix.columns\n",
    "\n",
    "# Create an empty list to keep track of columns to drop\n",
    "columns_to_drop = []\n",
    "for i in range(len(columns)):\n",
    "    for j in range(i + 1, len(columns)):\n",
    "        # Access the cell of the DataFrame\n",
    "        if corr_matrix.loc[columns[i], columns[j]] > 0.95:\n",
    "            columns_to_drop.append(columns[j])\n",
    "\n",
    "print(len(set(columns_to_drop)))"
   ]
  }
 ],
 "metadata": {
  "kernelspec": {
   "display_name": "Python 3",
   "language": "python",
   "name": "python3"
  },
  "language_info": {
   "codemirror_mode": {
    "name": "ipython",
    "version": 3
   },
   "file_extension": ".py",
   "mimetype": "text/x-python",
   "name": "python",
   "nbconvert_exporter": "python",
   "pygments_lexer": "ipython3",
   "version": "3.10.7"
  },
  "orig_nbformat": 4
 },
 "nbformat": 4,
 "nbformat_minor": 2
}
