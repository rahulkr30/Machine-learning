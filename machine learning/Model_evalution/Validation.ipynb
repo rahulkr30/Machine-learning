{
 "cells": [
  {
   "cell_type": "code",
   "execution_count": 2,
   "metadata": {},
   "outputs": [],
   "source": [
    "import numpy as np\n",
    "import pandas as np \n",
    "import matplotlib.pyplot as plt \n",
    "from sklearn.model_selection import train_test_split,cross_val_score,KFold\n",
    "from sklearn.linear_model import LinearRegression,LogisticRegression\n",
    "from sklearn.metrics import mean_squared_error ,r2_score\n",
    "from sklearn.datasets import load_diabetes ,make_regression\n",
    "\n"
   ]
  },
  {
   "attachments": {},
   "cell_type": "markdown",
   "metadata": {},
   "source": [
    "cross_val sklearn implementaion \n",
    "\n",
    "- estimator: The machine learning model or estimator object that you want to evaluate. It should have a fit method to train the model and a score method or a specified scoring metric for evaluation.\n",
    "\n",
    "- X: The input features or data matrix.\n",
    "\n",
    "- y: The target variable or output labels. It is optional and can be omitted for unsupervised learning tasks.\n",
    "\n",
    "- scoring: The evaluation metric to use. It can be a predefined string metric (e.g., \"accuracy\", \"f1\", \"mean_squared_error\") or a custom scoring function. If scoring is not specified, the estimator's default score method is used.\n",
    "\n",
    "- cv: The cross-validation strategy or the number of folds to use. It can be an integer (e.g., 5 for 5-fold cross-validation) or an object that implements a specific cross-validation scheme (e.g., KFold, StratifiedKFold). If cv is None, it uses the default 5-fold cross-validation.\n",
    "\n",
    "- n_jobs: The number of parallel jobs to run during cross-validation. It allows for faster computation by parallelizing the process. Setting n_jobs to -1 uses all available processors."
   ]
  },
  {
   "attachments": {},
   "cell_type": "markdown",
   "metadata": {},
   "source": [
    "# problem with hold out approch "
   ]
  },
  {
   "cell_type": "code",
   "execution_count": 16,
   "metadata": {},
   "outputs": [
    {
     "name": "stdout",
     "output_type": "stream",
     "text": [
      "random state is 10\n",
      "Mean Squared Error: 2911.8118861191774\n",
      "R2 score -> 0.5341988244945842 \n",
      "\n",
      "random state is 20\n",
      "Mean Squared Error: 3461.6627862550476\n",
      "R2 score -> 0.4179775463198647 \n",
      "\n",
      "random state is 30\n",
      "Mean Squared Error: 3287.479348826673\n",
      "R2 score -> 0.4653044632644133 \n",
      "\n",
      "random state is 42\n",
      "Mean Squared Error: 2900.19362849348\n",
      "R2 score -> 0.4526027629719197 \n",
      "\n",
      "random state is 38\n",
      "Mean Squared Error: 3242.190913590777\n",
      "R2 score -> 0.25754992209749294 \n",
      "\n",
      "random state is 108\n",
      "Mean Squared Error: 2443.813726634741\n",
      "R2 score -> 0.5951326918629855 \n",
      "\n"
     ]
    }
   ],
   "source": [
    "diabetes = load_diabetes()\n",
    "\n",
    "X = diabetes.data\n",
    "y = diabetes.target\n",
    "\n",
    "random_states=[10,20,30,42,38,108]\n",
    "\n",
    "for i in random_states:\n",
    "    X_train, X_test, y_train, y_test = train_test_split(X, y, test_size=0.2, random_state=i) \n",
    "    lr = LinearRegression()\n",
    "    lr.fit(X_train, y_train)\n",
    "    y_pred = lr.predict(X_test)\n",
    "    # Evaluate the model\n",
    "    print(\"random state is {}\".format(i))\n",
    "    mse = mean_squared_error(y_test, y_pred)\n",
    "    print(\"Mean Squared Error:\", mse)\n",
    "    r2=r2_score(y_test, y_pred)\n",
    "    print('R2 score ->',r2 ,'\\n')\n",
    "\n",
    "\n",
    "\n",
    "\n",
    "\n"
   ]
  },
  {
   "attachments": {},
   "cell_type": "markdown",
   "metadata": {},
   "source": [
    "</b> we can clearly see the variablity in r2 score when the randomstate is changing ."
   ]
  },
  {
   "attachments": {},
   "cell_type": "markdown",
   "metadata": {},
   "source": [
    "# Leave-one-out cross-validation "
   ]
  },
  {
   "cell_type": "code",
   "execution_count": 106,
   "metadata": {},
   "outputs": [],
   "source": [
    "from sklearn.model_selection import LeaveOneOut\n",
    "from sklearn.linear_model import LinearRegression\n",
    "from sklearn.metrics import mean_squared_error\n",
    "\n",
    "model = LinearRegression()\n",
    "\n",
    "# Create Leave-One-Out Cross-Validator\n",
    "cv = LeaveOneOut()\n",
    "\n",
    "# Initialize an empty list to store the evaluation results\n",
    "Scores= cross_val_score(model,X,y,cv=cv,scoring='neg_mean_squared_error')"
   ]
  },
  {
   "cell_type": "code",
   "execution_count": 120,
   "metadata": {},
   "outputs": [
    {
     "data": {
      "text/plain": [
       "3001.7528469994304"
      ]
     },
     "execution_count": 120,
     "metadata": {},
     "output_type": "execute_result"
    }
   ],
   "source": [
    "abs(Scores.mean())"
   ]
  },
  {
   "cell_type": "code",
   "execution_count": 122,
   "metadata": {},
   "outputs": [
    {
     "ename": "NameError",
     "evalue": "name 'sqrt' is not defined",
     "output_type": "error",
     "traceback": [
      "\u001b[1;31m---------------------------------------------------------------------------\u001b[0m",
      "\u001b[1;31mNameError\u001b[0m                                 Traceback (most recent call last)",
      "\u001b[1;32md:\\python\\data science mentorship program\\Module 5 ml\\machine learning\\Model_evalution\\Validation.ipynb Cell 9\u001b[0m in \u001b[0;36m<module>\u001b[1;34m\u001b[0m\n\u001b[1;32m----> <a href='vscode-notebook-cell:/d%3A/python/data%20science%20mentorship%20program/Module%205%20ml/machine%20learning/Model_evalution/Validation.ipynb#X36sZmlsZQ%3D%3D?line=0'>1</a>\u001b[0m sqrt(\u001b[39m3001\u001b[39m)\n",
      "\u001b[1;31mNameError\u001b[0m: name 'sqrt' is not defined"
     ]
    }
   ],
   "source": [
    "sqrt(3001)"
   ]
  },
  {
   "attachments": {},
   "cell_type": "markdown",
   "metadata": {},
   "source": [
    "#### Leave-one-out cross-validation offers the following pros:\n",
    "\n",
    "1. It provides a much less biased measure of test MSE compared to using a single test set because we repeatedly fit a model to a dataset that contains n-1 observations.\n",
    "2. It tends not to overestimate the test MSE compared to using a single test set.\n",
    "\n",
    "However, leave-one-out cross-validation comes with the following cons:\n",
    "\n",
    "1. It can be a time-consuming process to use when n is large.\n",
    "2. It can also be time-consuming if a model is particularly complex and takes a long time to fit to a dataset.\n",
    "3. It can be computationally expensive."
   ]
  },
  {
   "cell_type": "code",
   "execution_count": null,
   "metadata": {},
   "outputs": [],
   "source": []
  },
  {
   "attachments": {},
   "cell_type": "markdown",
   "metadata": {},
   "source": [
    "K_fold"
   ]
  },
  {
   "cell_type": "code",
   "execution_count": 15,
   "metadata": {},
   "outputs": [
    {
     "ename": "NameError",
     "evalue": "name 'X' is not defined",
     "output_type": "error",
     "traceback": [
      "\u001b[1;31m---------------------------------------------------------------------------\u001b[0m",
      "\u001b[1;31mNameError\u001b[0m                                 Traceback (most recent call last)",
      "\u001b[1;32md:\\python\\data science mentorship program\\Module 5 ml\\machine learning\\Model_evalution\\Validation.ipynb Cell 13\u001b[0m in \u001b[0;36m<module>\u001b[1;34m\u001b[0m\n\u001b[0;32m      <a href='vscode-notebook-cell:/d%3A/python/data%20science%20mentorship%20program/Module%205%20ml/machine%20learning/Model_evalution/Validation.ipynb#X15sZmlsZQ%3D%3D?line=2'>3</a>\u001b[0m \u001b[39m# model\u001b[39;00m\n\u001b[0;32m      <a href='vscode-notebook-cell:/d%3A/python/data%20science%20mentorship%20program/Module%205%20ml/machine%20learning/Model_evalution/Validation.ipynb#X15sZmlsZQ%3D%3D?line=3'>4</a>\u001b[0m model \u001b[39m=\u001b[39m LinearRegression()\n\u001b[1;32m----> <a href='vscode-notebook-cell:/d%3A/python/data%20science%20mentorship%20program/Module%205%20ml/machine%20learning/Model_evalution/Validation.ipynb#X15sZmlsZQ%3D%3D?line=4'>5</a>\u001b[0m Scores\u001b[39m=\u001b[39m cross_val_score(model,X,y,cv\u001b[39m=\u001b[39m\u001b[39m5\u001b[39m,scoring\u001b[39m=\u001b[39m\u001b[39m'\u001b[39m\u001b[39mr2\u001b[39m\u001b[39m'\u001b[39m)\n\u001b[0;32m      <a href='vscode-notebook-cell:/d%3A/python/data%20science%20mentorship%20program/Module%205%20ml/machine%20learning/Model_evalution/Validation.ipynb#X15sZmlsZQ%3D%3D?line=6'>7</a>\u001b[0m \u001b[39mfor\u001b[39;00m fold, score \u001b[39min\u001b[39;00m \u001b[39menumerate\u001b[39m(Scores, start\u001b[39m=\u001b[39m\u001b[39m1\u001b[39m):\n\u001b[0;32m      <a href='vscode-notebook-cell:/d%3A/python/data%20science%20mentorship%20program/Module%205%20ml/machine%20learning/Model_evalution/Validation.ipynb#X15sZmlsZQ%3D%3D?line=7'>8</a>\u001b[0m     \u001b[39mprint\u001b[39m(\u001b[39mf\u001b[39m\u001b[39m\"\u001b[39m\u001b[39mFold \u001b[39m\u001b[39m{\u001b[39;00mfold\u001b[39m}\u001b[39;00m\u001b[39m: \u001b[39m\u001b[39m{\u001b[39;00mscore\u001b[39m}\u001b[39;00m\u001b[39m\"\u001b[39m)\n",
      "\u001b[1;31mNameError\u001b[0m: name 'X' is not defined"
     ]
    }
   ],
   "source": [
    "\n",
    "kfold = KFold(n_splits=5, shuffle=True, random_state=42)\n",
    "\n",
    "# model\n",
    "model = LinearRegression()\n",
    "Scores= cross_val_score(model,X,y,cv=5,scoring='r2')\n",
    "\n",
    "for fold, score in enumerate(Scores, start=1):\n",
    "    print(f\"Fold {fold}: {score}\")\n",
    "\n",
    "#Avg score \n",
    "avg_score = Scores.mean()\n",
    "print(\"Average Score - \", avg_score)"
   ]
  },
  {
   "attachments": {},
   "cell_type": "markdown",
   "metadata": {},
   "source": [
    "experminting with different k_fold and try to find the variablity of accuracy when incresing the kfold."
   ]
  },
  {
   "cell_type": "code",
   "execution_count": 77,
   "metadata": {},
   "outputs": [
    {
     "data": {
      "image/png": "[encoded data removed]",
      "text/plain": [
       "<Figure size 432x288 with 1 Axes>"
      ]
     },
     "metadata": {
      "needs_background": "light"
     },
     "output_type": "display_data"
    },
    {
     "name": "stdout",
     "output_type": "stream",
     "text": [
      "Fold 5: 0.48231643590864215\n",
      "Fold 11: 0.48231643590864215\n",
      "Fold 5: 0.48231643590864215\n",
      "Fold 7: 0.48231643590864215\n",
      "Fold 100: 0.48231643590864215\n"
     ]
    }
   ],
   "source": [
    "n_folds = [5,11,5,7,100]\n",
    "avg_scores = []\n",
    "scores_=[]\n",
    "\n",
    "\n",
    "X, y = make_regression(n_samples=10000, n_features=3, noise=20, random_state=42)\n",
    "# Perform cross-validation for each number of folds\n",
    "for i in n_folds:\n",
    "    kfold = KFold(n_splits=i, shuffle=True, random_state=i)\n",
    "    model = LinearRegression()\n",
    "    scores = cross_val_score(model, X, y, cv=kfold, scoring='r2')\n",
    "    scores_.append(scores)\n",
    "    avg_score = Scores.mean()\n",
    "    avg_scores.append(avg_score)\n",
    "\n",
    "plt.plot(n_folds, avg_scores, marker='o')\n",
    "plt.xlabel('Number of Folds')\n",
    "plt.ylabel('Mean Squared Error (MSE)')\n",
    "plt.title('Bias Reduction with Increasing Folds')\n",
    "plt.show()\n",
    "\n",
    "for fold, score in zip(n_folds,avg_scores):\n",
    "    print(f\"Fold {fold}: {score}\")"
   ]
  },
  {
   "attachments": {},
   "cell_type": "markdown",
   "metadata": {},
   "source": [
    "at every fold result is same but increasing the k_fold may lead the following prblem."
   ]
  },
  {
   "attachments": {},
   "cell_type": "markdown",
   "metadata": {},
   "source": [
    "- Smaller Validation Sets: As the number of folds increases, each validation set becomes smaller. With a larger k, a larger portion of the data is used for validation in each iteration, resulting in less data available for training the model. Smaller validation sets can provide a more precise estimate of model performance on unseen data but may also lead to higher variability in the evaluation scores.\n",
    "\n",
    "- Increased Computational Cost: Increasing the value of k also increases the computational cost of k-fold cross-validation. With each fold, the model needs to be trained and evaluated, resulting in more iterations. This can be time-consuming and resource-intensive, especially for large datasets or complex models. Therefore, higher values of k may lead to longer execution times.\n",
    "\n",
    "- Higher Variability in Performance: With more folds, the cross-validation estimate of model performance becomes more precise but can also increase the variability in performance scores across the folds. Each fold represents a different validation set, and the model's performance can vary depending on the specific subset used for validation. With a higher number of folds, the model's performance may exhibit more variance due to the increased number of validation sets.\n",
    "\n",
    "- Reduced Bias in Performance Estimate: Increasing the number of folds can reduce the bias in the performance estimate of the model. By using more subsets as validation sets, the estimate becomes less dependent on the specific train-test split and is less biased towards any particular portion of the data. This can provide a more accurate representation of the model's performance on unseen data."
   ]
  },
  {
   "attachments": {},
   "cell_type": "markdown",
   "metadata": {},
   "source": [
    "`Advantage and disadvantage of KFolod `\n",
    "\n",
    "#### Advantages of k-fold cross-validation:\n",
    "\n",
    "1. Better performance estimation: k-fold cross-validation provides a more robust estimate of a model's performance compared to a single train-test split. It reduces the impact of variability in the data by averaging the results across multiple folds.\n",
    "\n",
    "2. Efficient use of data: k-fold cross-validation allows you to make the most out of your available data. By using all data points for both training and testing in different folds, you maximize the utilization of the dataset.\n",
    "\n",
    "3. Model selection and hyperparameter tuning: k-fold cross-validation is commonly used for model selection and hyperparameter tuning. It enables fair and unbiased comparison of different models or hyperparameter configurations by using the same folds for evaluation.\n",
    "\n",
    "#### Disadvantages and limitations of k-fold cross-validation:\n",
    "\n",
    "1. Computational cost: The computational cost of k-fold cross-validation can be higher compared to a single train-test split. As the number of folds (k) increases, the training and evaluation process needs to be repeated k times, which can be time-consuming for large datasets or complex models.\n",
    "\n",
    "2. Potential bias in small datasets: In small datasets, k-fold cross-validation might introduce bias due to the limited number of samples available for training and testing. The performance estimates may not be representative of the model's true generalization performance.\n",
    "\n",
    "3. Data leakage in feature engineering: If feature engineering techniques are applied based on the entire dataset before cross-validation, there is a risk of data leakage. Information from the testing folds could unintentionally influence the feature engineering process and lead to overly optimistic performance estimates.\n",
    "\n",
    "4. Difficulty in handling class imbalance: k-fold cross-validation alone does not handle class imbalance issues in the dataset. If the dataset has imbalanced classes, the performance evaluation may still be biased towards the majority class unless additional techniques like stratified sampling or stratified cross-validation are used."
   ]
  },
  {
   "attachments": {},
   "cell_type": "markdown",
   "metadata": {},
   "source": [
    "  +-------------------------------+\n",
    "  |          Data Samples        |\n",
    "  +-------------------------------+\n",
    "                |\n",
    "                v\n",
    "  +-------------------------------+\n",
    "  |        Stratified Split       |\n",
    "  |       (k=5 in this example)   |\n",
    "  +-------------------------------+\n",
    "                |\n",
    "                v\n",
    "  +-------------------------------+\n",
    "  |          Fold 1               |\n",
    "  |        Train: Folds 2-5       |\n",
    "  |        Test: Fold 1           |\n",
    "  +-------------------------------+\n",
    "                |\n",
    "                v\n",
    "  +-------------------------------+\n",
    "  |          Fold 2               |\n",
    "  |        Train: Folds 1, 3-5    |\n",
    "  |        Test: Fold 2           |\n",
    "  +-------------------------------+\n",
    "                |\n",
    "                v\n",
    "  +-------------------------------+\n",
    "  |          Fold 3               |\n",
    "  |        Train: Folds 1-2, 4-5  |\n",
    "  |        Test: Fold 3           |\n",
    "  +-------------------------------+\n",
    "                |\n",
    "                v\n",
    "  +-------------------------------+\n",
    "  |          Fold 4               |\n",
    "  |        Train: Folds 1-3, 5    |\n",
    "  |        Test: Fold 4           |\n",
    "  +-------------------------------+\n",
    "                |\n",
    "                v\n",
    "  +-------------------------------+\n",
    "  |          Fold 5               |\n",
    "  |        Train: Folds 1-4       |\n",
    "  |        Test: Fold 5           |\n",
    "  +-------------------------------+\n",
    "                |\n",
    "                v\n",
    "  +-------------------------------+\n",
    "  |    Performance Aggregation    |\n",
    "  +-------------------------------+\n",
    "                |\n",
    "                v\n",
    "  +-------------------------------+\n",
    "  |      Overall Performance      |\n",
    "  +-------------------------------+\n"
   ]
  },
  {
   "cell_type": "code",
   "execution_count": 9,
   "metadata": {},
   "outputs": [],
   "source": [
    "import numpy as np\n",
    "from sklearn.model_selection import StratifiedKFold\n",
    "\n",
    "# Generate a large dummy dataset with imbalanced output\n",
    "# Set random seed for reproducibility\n",
    "np.random.seed(33)\n",
    "\n",
    "# Number of samples\n",
    "n_samples = 10000\n",
    "\n",
    "# Generate features (dummy data)\n",
    "X = np.random.rand(n_samples, 5)\n",
    "\n",
    "# Generate imbalanced output\n",
    "y = np.concatenate([np.zeros(9000), np.ones(1000)])\n",
    "\n",
    "X_train,X_test,y_train,y_test=train_test_split(X,y,random_state=22,test_size=0.2)\n",
    "\n",
    "# Number of folds\n",
    "k = 5  \n",
    "skf = StratifiedKFold(n_splits=k, shuffle=True, random_state=42)\n",
    "model = LogisticRegression()\n",
    "\n",
    "cross_val=cross_val_score(model,X_train,y_train,cv=skf,scoring='accuracy')"
   ]
  },
  {
   "cell_type": "code",
   "execution_count": 10,
   "metadata": {},
   "outputs": [
    {
     "data": {
      "text/plain": [
       "array([0.89875 , 0.89875 , 0.89875 , 0.89875 , 0.898125])"
      ]
     },
     "execution_count": 10,
     "metadata": {},
     "output_type": "execute_result"
    }
   ],
   "source": [
    "cross_val"
   ]
  },
  {
   "cell_type": "code",
   "execution_count": 11,
   "metadata": {},
   "outputs": [
    {
     "data": {
      "text/plain": [
       "0.898625"
      ]
     },
     "execution_count": 11,
     "metadata": {},
     "output_type": "execute_result"
    }
   ],
   "source": [
    "np.mean(cross_val)"
   ]
  },
  {
   "cell_type": "code",
   "execution_count": 12,
   "metadata": {},
   "outputs": [
    {
     "data": {
      "text/html": [
       "<style>#sk-container-id-2 {color: black;background-color: white;}#sk-container-id-2 pre{padding: 0;}#sk-container-id-2 div.sk-toggleable {background-color: white;}#sk-container-id-2 label.sk-toggleable__label {cursor: pointer;display: block;width: 100%;margin-bottom: 0;padding: 0.3em;box-sizing: border-box;text-align: center;}#sk-container-id-2 label.sk-toggleable__label-arrow:before {content: \"▸\";float: left;margin-right: 0.25em;color: #696969;}#sk-container-id-2 label.sk-toggleable__label-arrow:hover:before {color: black;}#sk-container-id-2 div.sk-estimator:hover label.sk-toggleable__label-arrow:before {color: black;}#sk-container-id-2 div.sk-toggleable__content {max-height: 0;max-width: 0;overflow: hidden;text-align: left;background-color: #f0f8ff;}#sk-container-id-2 div.sk-toggleable__content pre {margin: 0.2em;color: black;border-radius: 0.25em;background-color: #f0f8ff;}#sk-container-id-2 input.sk-toggleable__control:checked~div.sk-toggleable__content {max-height: 200px;max-width: 100%;overflow: auto;}#sk-container-id-2 input.sk-toggleable__control:checked~label.sk-toggleable__label-arrow:before {content: \"▾\";}#sk-container-id-2 div.sk-estimator input.sk-toggleable__control:checked~label.sk-toggleable__label {background-color: #d4ebff;}#sk-container-id-2 div.sk-label input.sk-toggleable__control:checked~label.sk-toggleable__label {background-color: #d4ebff;}#sk-container-id-2 input.sk-hidden--visually {border: 0;clip: rect(1px 1px 1px 1px);clip: rect(1px, 1px, 1px, 1px);height: 1px;margin: -1px;overflow: hidden;padding: 0;position: absolute;width: 1px;}#sk-container-id-2 div.sk-estimator {font-family: monospace;background-color: #f0f8ff;border: 1px dotted black;border-radius: 0.25em;box-sizing: border-box;margin-bottom: 0.5em;}#sk-container-id-2 div.sk-estimator:hover {background-color: #d4ebff;}#sk-container-id-2 div.sk-parallel-item::after {content: \"\";width: 100%;border-bottom: 1px solid gray;flex-grow: 1;}#sk-container-id-2 div.sk-label:hover label.sk-toggleable__label {background-color: #d4ebff;}#sk-container-id-2 div.sk-serial::before {content: \"\";position: absolute;border-left: 1px solid gray;box-sizing: border-box;top: 0;bottom: 0;left: 50%;z-index: 0;}#sk-container-id-2 div.sk-serial {display: flex;flex-direction: column;align-items: center;background-color: white;padding-right: 0.2em;padding-left: 0.2em;position: relative;}#sk-container-id-2 div.sk-item {position: relative;z-index: 1;}#sk-container-id-2 div.sk-parallel {display: flex;align-items: stretch;justify-content: center;background-color: white;position: relative;}#sk-container-id-2 div.sk-item::before, #sk-container-id-2 div.sk-parallel-item::before {content: \"\";position: absolute;border-left: 1px solid gray;box-sizing: border-box;top: 0;bottom: 0;left: 50%;z-index: -1;}#sk-container-id-2 div.sk-parallel-item {display: flex;flex-direction: column;z-index: 1;position: relative;background-color: white;}#sk-container-id-2 div.sk-parallel-item:first-child::after {align-self: flex-end;width: 50%;}#sk-container-id-2 div.sk-parallel-item:last-child::after {align-self: flex-start;width: 50%;}#sk-container-id-2 div.sk-parallel-item:only-child::after {width: 0;}#sk-container-id-2 div.sk-dashed-wrapped {border: 1px dashed gray;margin: 0 0.4em 0.5em 0.4em;box-sizing: border-box;padding-bottom: 0.4em;background-color: white;}#sk-container-id-2 div.sk-label label {font-family: monospace;font-weight: bold;display: inline-block;line-height: 1.2em;}#sk-container-id-2 div.sk-label-container {text-align: center;}#sk-container-id-2 div.sk-container {/* jupyter's `normalize.less` sets `[hidden] { display: none; }` but bootstrap.min.css set `[hidden] { display: none !important; }` so we also need the `!important` here to be able to override the default hidden behavior on the sphinx rendered scikit-learn.org. See: https://github.com/scikit-learn/scikit-learn/issues/21755 */display: inline-block !important;position: relative;}#sk-container-id-2 div.sk-text-repr-fallback {display: none;}</style><div id=\"sk-container-id-2\" class=\"sk-top-container\"><div class=\"sk-text-repr-fallback\"><pre>LogisticRegression()</pre><b>In a Jupyter environment, please rerun this cell to show the HTML representation or trust the notebook. <br />On GitHub, the HTML representation is unable to render, please try loading this page with nbviewer.org.</b></div><div class=\"sk-container\" hidden><div class=\"sk-item\"><div class=\"sk-estimator sk-toggleable\"><input class=\"sk-toggleable__control sk-hidden--visually\" id=\"sk-estimator-id-2\" type=\"checkbox\" checked><label for=\"sk-estimator-id-2\" class=\"sk-toggleable__label sk-toggleable__label-arrow\">LogisticRegression</label><div class=\"sk-toggleable__content\"><pre>LogisticRegression()</pre></div></div></div></div></div>"
      ],
      "text/plain": [
       "LogisticRegression()"
      ]
     },
     "execution_count": 12,
     "metadata": {},
     "output_type": "execute_result"
    }
   ],
   "source": [
    "model.fit(X_train,y_train)"
   ]
  },
  {
   "cell_type": "code",
   "execution_count": 13,
   "metadata": {},
   "outputs": [],
   "source": [
    "y_pred=model.predict(X_test)"
   ]
  },
  {
   "cell_type": "code",
   "execution_count": 14,
   "metadata": {},
   "outputs": [
    {
     "data": {
      "text/plain": [
       "0.9055"
      ]
     },
     "execution_count": 14,
     "metadata": {},
     "output_type": "execute_result"
    }
   ],
   "source": [
    "from sklearn.metrics import accuracy_score \n",
    "accuracy_score(y_test,y_pred)"
   ]
  }
 ],
 "metadata": {
  "kernelspec": {
   "display_name": "Python 3",
   "language": "python",
   "name": "python3"
  },
  "language_info": {
   "codemirror_mode": {
    "name": "ipython",
    "version": 3
   },
   "file_extension": ".py",
   "mimetype": "text/x-python",
   "name": "python",
   "nbconvert_exporter": "python",
   "pygments_lexer": "ipython3",
   "version": "3.10.7"
  },
  "orig_nbformat": 4
 },
 "nbformat": 4,
 "nbformat_minor": 2
}
