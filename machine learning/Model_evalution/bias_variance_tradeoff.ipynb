{
 "cells": [
  {
   "cell_type": "code",
   "execution_count": 33,
   "metadata": {},
   "outputs": [],
   "source": [
    "from mlxtend.evaluate import bias_variance_decomp\n",
    "from sklearn.tree import DecisionTreeRegressor\n",
    "from sklearn.linear_model import LinearRegression, Lasso,Ridge,ElasticNet\n",
    "from mlxtend.data import boston_housing_data\n",
    "from sklearn.model_selection import train_test_split,KFold,cross_val_score\n",
    "from sklearn.metrics import r2_score,mean_squared_error\n",
    "import matplotlib.pyplot as plt \n",
    "import seaborn as sns \n",
    "from sklearn.preprocessing import PolynomialFeatures\n",
    "\n",
    "X, y = boston_housing_data()\n",
    "X_train, X_test, y_train, y_test = train_test_split(X, y,\n",
    "                                                    test_size=0.3,\n",
    "                                                    random_state=123,\n",
    "                                                    shuffle=True)\n",
    "\n"
   ]
  },
  {
   "attachments": {},
   "cell_type": "markdown",
   "metadata": {},
   "source": [
    "# Linear Regresion "
   ]
  },
  {
   "cell_type": "code",
   "execution_count": 13,
   "metadata": {},
   "outputs": [
    {
     "name": "stdout",
     "output_type": "stream",
     "text": [
      "Average expected loss: 29.891450216347593\n",
      "Average bias: 28.609233801954325\n",
      "Average variance: 1.2822164143932582\n"
     ]
    }
   ],
   "source": [
    "lr = LinearRegression()\n",
    "\n",
    "avg_expected_loss, avg_bias, avg_var = bias_variance_decomp(\n",
    "        lr, X_train, y_train, X_test, y_test, \n",
    "        loss='mse',\n",
    "        random_seed=123)\n",
    "\n",
    "print('Average expected loss:' ,avg_expected_loss)\n",
    "print('Average bias:', avg_bias)\n",
    "print('Average variance:',avg_var)"
   ]
  },
  {
   "cell_type": "code",
   "execution_count": 14,
   "metadata": {},
   "outputs": [
    {
     "name": "stdout",
     "output_type": "stream",
     "text": [
      "r2 score on  0.6485645742370708\n",
      "r2 score on traing data  0.7647156501433012\n"
     ]
    }
   ],
   "source": [
    "lr = LinearRegression()\n",
    "lr.fit(X_train,y_train)\n",
    "y_pred=lr.predict(X_test)\n",
    "y_pred2=lr.predict(X_train)\n",
    "\n",
    "print('r2 score on ',r2_score(y_test,y_pred))\n",
    "print('r2 score on traing data ',r2_score(y_train,y_pred2))"
   ]
  },
  {
   "attachments": {},
   "cell_type": "markdown",
   "metadata": {},
   "source": [
    "# Ridge "
   ]
  },
  {
   "cell_type": "code",
   "execution_count": 15,
   "metadata": {},
   "outputs": [
    {
     "name": "stdout",
     "output_type": "stream",
     "text": [
      "Average expected loss:  29.994008584056317\n",
      "Average bias:  28.72939649273625\n",
      "Average variance:  1.2646120913200667\n"
     ]
    }
   ],
   "source": [
    "\n",
    "lr = Ridge(alpha=0.1)\n",
    "avg_expected_loss, avg_bias, avg_var = bias_variance_decomp(\n",
    "        lr, X_train, y_train, X_test, y_test, \n",
    "        loss='mse',\n",
    "        random_seed=123)\n",
    "\n",
    "print('Average expected loss: ', avg_expected_loss)\n",
    "print('Average bias: ' , avg_bias)\n",
    "print('Average variance: ' , avg_var)"
   ]
  },
  {
   "cell_type": "code",
   "execution_count": 16,
   "metadata": {},
   "outputs": [
    {
     "name": "stdout",
     "output_type": "stream",
     "text": [
      "Mean Square error 29.61069396794522\n",
      "r2_score 0.6336583809507104\n"
     ]
    }
   ],
   "source": [
    "model = Ridge(alpha=5) \n",
    "model.fit(X_train,y_train)\n",
    "y_pred=model.predict(X_test)\n",
    "\n",
    "print('Mean Square error',mean_squared_error(y_test,y_pred))\n",
    "print('r2_score',r2_score(y_test,y_pred))"
   ]
  },
  {
   "attachments": {},
   "cell_type": "markdown",
   "metadata": {},
   "source": [
    "# Lasso "
   ]
  },
  {
   "cell_type": "code",
   "execution_count": 28,
   "metadata": {},
   "outputs": [
    {
     "name": "stdout",
     "output_type": "stream",
     "text": [
      "Average expected loss: 29.895\n",
      "Average bias: 28.613\n",
      "Average variance: 1.282\n"
     ]
    }
   ],
   "source": [
    "lr = Lasso(alpha=.0001)\n",
    "\n",
    "avg_expected_loss, avg_bias, avg_var = bias_variance_decomp(\n",
    "        lr, X_train, y_train, X_test, y_test, \n",
    "        loss='mse',\n",
    "        random_seed=123)\n",
    "\n",
    "print('Average expected loss: %.3f' % avg_expected_loss)\n",
    "print('Average bias: %.3f' % avg_bias)\n",
    "print('Average variance: %.3f' % avg_var)"
   ]
  },
  {
   "cell_type": "code",
   "execution_count": 29,
   "metadata": {},
   "outputs": [
    {
     "name": "stdout",
     "output_type": "stream",
     "text": [
      "Mean Square error 30.079802179000477\n",
      "r2_score 0.6278546040539805\n",
      "r2_score on traing data  0.6893496246108772\n"
     ]
    }
   ],
   "source": [
    "model = Lasso(alpha=1.3) \n",
    "model.fit(X_train,y_train)\n",
    "y_pred=model.predict(X_test)\n",
    "y_pred2=model.predict(X_train)\n",
    "\n",
    "print('Mean Square error',mean_squared_error(y_test,y_pred))\n",
    "print('r2_score',r2_score(y_test,y_pred))\n",
    "print('r2_score on traing data ',r2_score(y_train,y_pred2))"
   ]
  },
  {
   "attachments": {},
   "cell_type": "markdown",
   "metadata": {},
   "source": [
    "# Discison Tree"
   ]
  },
  {
   "cell_type": "code",
   "execution_count": 20,
   "metadata": {},
   "outputs": [
    {
     "data": {
      "image/png": "[encoded data removed]",
      "text/plain": [
       "<Figure size 432x288 with 1 Axes>"
      ]
     },
     "metadata": {
      "needs_background": "light"
     },
     "output_type": "display_data"
    }
   ],
   "source": [
    "complexities = range(1, 21)\n",
    "bias_list = []\n",
    "variance_list = []\n",
    "mse_list = []\n",
    "\n",
    "# Calculate bias, variance, and MSE for different complexities\n",
    "for complexity in complexities:\n",
    "    model = DecisionTreeRegressor(max_depth=complexity)  \n",
    "    mse, bias, variance = bias_variance_decomp(model, X_train, y_train, X_test, y_test, loss='mse', random_seed=123)\n",
    "    bias_list.append(bias)\n",
    "    variance_list.append(variance)\n",
    "    mse_list.append(mse)\n",
    "\n",
    "plt.plot(complexities, bias_list, label='Bias', marker='o')\n",
    "plt.plot(complexities, variance_list, label='Variance', marker='o')\n",
    "plt.plot(complexities, mse_list, label='MSE', marker='o')\n",
    "\n",
    "plt.xlabel('Model Complexity')\n",
    "plt.ylabel('Bias / Variance / MSE')\n",
    "plt.title('Bias-Variance Tradeoff')\n",
    "plt.legend()\n",
    "plt.show()"
   ]
  },
  {
   "cell_type": "code",
   "execution_count": 30,
   "metadata": {},
   "outputs": [
    {
     "name": "stdout",
     "output_type": "stream",
     "text": [
      "Average expected loss 30.934719279122586\n",
      "Average bias: 15.44448858587779\n",
      "Average variance: 15.490230693244795\n"
     ]
    }
   ],
   "source": [
    "model = DecisionTreeRegressor(max_depth=5) \n",
    "\n",
    "\n",
    "avg_expected_loss, avg_bias, avg_var = bias_variance_decomp(\n",
    "        model, X_train, y_train, X_test, y_test, \n",
    "        loss='mse',\n",
    "        random_seed=123)\n",
    "print('Average expected loss',avg_expected_loss)\n",
    "print('Average bias:' ,avg_bias)\n",
    "print('Average variance:', avg_var)"
   ]
  },
  {
   "cell_type": "code",
   "execution_count": 24,
   "metadata": {},
   "outputs": [
    {
     "data": {
      "text/html": [
       "<style>#sk-container-id-2 {color: black;background-color: white;}#sk-container-id-2 pre{padding: 0;}#sk-container-id-2 div.sk-toggleable {background-color: white;}#sk-container-id-2 label.sk-toggleable__label {cursor: pointer;display: block;width: 100%;margin-bottom: 0;padding: 0.3em;box-sizing: border-box;text-align: center;}#sk-container-id-2 label.sk-toggleable__label-arrow:before {content: \"▸\";float: left;margin-right: 0.25em;color: #696969;}#sk-container-id-2 label.sk-toggleable__label-arrow:hover:before {color: black;}#sk-container-id-2 div.sk-estimator:hover label.sk-toggleable__label-arrow:before {color: black;}#sk-container-id-2 div.sk-toggleable__content {max-height: 0;max-width: 0;overflow: hidden;text-align: left;background-color: #f0f8ff;}#sk-container-id-2 div.sk-toggleable__content pre {margin: 0.2em;color: black;border-radius: 0.25em;background-color: #f0f8ff;}#sk-container-id-2 input.sk-toggleable__control:checked~div.sk-toggleable__content {max-height: 200px;max-width: 100%;overflow: auto;}#sk-container-id-2 input.sk-toggleable__control:checked~label.sk-toggleable__label-arrow:before {content: \"▾\";}#sk-container-id-2 div.sk-estimator input.sk-toggleable__control:checked~label.sk-toggleable__label {background-color: #d4ebff;}#sk-container-id-2 div.sk-label input.sk-toggleable__control:checked~label.sk-toggleable__label {background-color: #d4ebff;}#sk-container-id-2 input.sk-hidden--visually {border: 0;clip: rect(1px 1px 1px 1px);clip: rect(1px, 1px, 1px, 1px);height: 1px;margin: -1px;overflow: hidden;padding: 0;position: absolute;width: 1px;}#sk-container-id-2 div.sk-estimator {font-family: monospace;background-color: #f0f8ff;border: 1px dotted black;border-radius: 0.25em;box-sizing: border-box;margin-bottom: 0.5em;}#sk-container-id-2 div.sk-estimator:hover {background-color: #d4ebff;}#sk-container-id-2 div.sk-parallel-item::after {content: \"\";width: 100%;border-bottom: 1px solid gray;flex-grow: 1;}#sk-container-id-2 div.sk-label:hover label.sk-toggleable__label {background-color: #d4ebff;}#sk-container-id-2 div.sk-serial::before {content: \"\";position: absolute;border-left: 1px solid gray;box-sizing: border-box;top: 0;bottom: 0;left: 50%;z-index: 0;}#sk-container-id-2 div.sk-serial {display: flex;flex-direction: column;align-items: center;background-color: white;padding-right: 0.2em;padding-left: 0.2em;position: relative;}#sk-container-id-2 div.sk-item {position: relative;z-index: 1;}#sk-container-id-2 div.sk-parallel {display: flex;align-items: stretch;justify-content: center;background-color: white;position: relative;}#sk-container-id-2 div.sk-item::before, #sk-container-id-2 div.sk-parallel-item::before {content: \"\";position: absolute;border-left: 1px solid gray;box-sizing: border-box;top: 0;bottom: 0;left: 50%;z-index: -1;}#sk-container-id-2 div.sk-parallel-item {display: flex;flex-direction: column;z-index: 1;position: relative;background-color: white;}#sk-container-id-2 div.sk-parallel-item:first-child::after {align-self: flex-end;width: 50%;}#sk-container-id-2 div.sk-parallel-item:last-child::after {align-self: flex-start;width: 50%;}#sk-container-id-2 div.sk-parallel-item:only-child::after {width: 0;}#sk-container-id-2 div.sk-dashed-wrapped {border: 1px dashed gray;margin: 0 0.4em 0.5em 0.4em;box-sizing: border-box;padding-bottom: 0.4em;background-color: white;}#sk-container-id-2 div.sk-label label {font-family: monospace;font-weight: bold;display: inline-block;line-height: 1.2em;}#sk-container-id-2 div.sk-label-container {text-align: center;}#sk-container-id-2 div.sk-container {/* jupyter's `normalize.less` sets `[hidden] { display: none; }` but bootstrap.min.css set `[hidden] { display: none !important; }` so we also need the `!important` here to be able to override the default hidden behavior on the sphinx rendered scikit-learn.org. See: https://github.com/scikit-learn/scikit-learn/issues/21755 */display: inline-block !important;position: relative;}#sk-container-id-2 div.sk-text-repr-fallback {display: none;}</style><div id=\"sk-container-id-2\" class=\"sk-top-container\"><div class=\"sk-text-repr-fallback\"><pre>DecisionTreeRegressor(max_depth=6)</pre><b>In a Jupyter environment, please rerun this cell to show the HTML representation or trust the notebook. <br />On GitHub, the HTML representation is unable to render, please try loading this page with nbviewer.org.</b></div><div class=\"sk-container\" hidden><div class=\"sk-item\"><div class=\"sk-estimator sk-toggleable\"><input class=\"sk-toggleable__control sk-hidden--visually\" id=\"sk-estimator-id-2\" type=\"checkbox\" checked><label for=\"sk-estimator-id-2\" class=\"sk-toggleable__label sk-toggleable__label-arrow\">DecisionTreeRegressor</label><div class=\"sk-toggleable__content\"><pre>DecisionTreeRegressor(max_depth=6)</pre></div></div></div></div></div>"
      ],
      "text/plain": [
       "DecisionTreeRegressor(max_depth=6)"
      ]
     },
     "execution_count": 24,
     "metadata": {},
     "output_type": "execute_result"
    }
   ],
   "source": [
    "model = DecisionTreeRegressor(max_depth=6) \n",
    "model.fit(X_train,y_train)"
   ]
  },
  {
   "cell_type": "code",
   "execution_count": 25,
   "metadata": {},
   "outputs": [
    {
     "name": "stdout",
     "output_type": "stream",
     "text": [
      "Mean Square error 15.41545207621795\n",
      "r2_score 0.8092810091485234\n",
      "r2_score on train data  0.9420981673593922\n"
     ]
    }
   ],
   "source": [
    "from sklearn.metrics import r2_score,mean_squared_error\n",
    "y_pred=model.predict(X_test)\n",
    "y_pred2=model.predict(X_train)\n",
    "print('Mean Square error',mean_squared_error(y_test,y_pred))\n",
    "print('r2_score',r2_score(y_test,y_pred))\n",
    "print('r2_score on train data ',r2_score(y_train,y_pred2))"
   ]
  },
  {
   "cell_type": "code",
   "execution_count": 27,
   "metadata": {},
   "outputs": [
    {
     "data": {
      "text/plain": [
       "0.7892242602529151"
      ]
     },
     "execution_count": 27,
     "metadata": {},
     "output_type": "execute_result"
    }
   ],
   "source": [
    "import numpy as np \n",
    "kfold = KFold(n_splits=6, shuffle=True, random_state=42)\n",
    "model = DecisionTreeRegressor(max_depth=5) \n",
    "scores = cross_val_score(model, X, y, cv=kfold, scoring='r2')\n",
    "np.mean(scores)\n"
   ]
  },
  {
   "attachments": {},
   "cell_type": "markdown",
   "metadata": {},
   "source": [
    "# Applying polynomial "
   ]
  },
  {
   "cell_type": "code",
   "execution_count": 35,
   "metadata": {},
   "outputs": [
    {
     "data": {
      "image/png": "[encoded data removed]",
      "text/plain": [
       "<Figure size 432x288 with 1 Axes>"
      ]
     },
     "metadata": {
      "needs_background": "light"
     },
     "output_type": "display_data"
    }
   ],
   "source": [
    "degrees = range(1, 5)\n",
    "bias_list = []\n",
    "variance_list = []\n",
    "mse_list = []\n",
    "\n",
    "for degree in degrees:\n",
    "    # Apply polynomial \n",
    "    polynomial_features = PolynomialFeatures(degree=degree, include_bias=True)\n",
    "    X_train_poly = polynomial_features.fit_transform(X_train)\n",
    "    X_test_poly = polynomial_features.transform(X_test)\n",
    "\n",
    "    # applying linear regression \n",
    "    model = LinearRegression()\n",
    "    mse, bias, variance = bias_variance_decomp(model, X_train_poly, y_train, X_test_poly, y_test, loss='mse', random_seed=123)\n",
    "    bias_list.append(bias)\n",
    "    variance_list.append(variance)\n",
    "    mse_list.append(mse)\n",
    "plt.plot(degrees, bias_list, label='Bias', marker='o')\n",
    "plt.plot(degrees, variance_list, label='Variance', marker='o')\n",
    "plt.plot(degrees, mse_list, label='MSE', marker='o')\n",
    "plt.xlabel('Polynomial Degree')\n",
    "plt.ylabel('Bias / Variance / MSE')\n",
    "plt.title('Bias-Variance Tradeoff - Elastic Net Regression')\n",
    "plt.legend()\n",
    "plt.show()\n",
    "\n"
   ]
  },
  {
   "attachments": {},
   "cell_type": "markdown",
   "metadata": {},
   "source": [
    "# Elastic Net "
   ]
  },
  {
   "cell_type": "code",
   "execution_count": 32,
   "metadata": {},
   "outputs": [
    {
     "name": "stdout",
     "output_type": "stream",
     "text": [
      "Average expected loss 29.14002494004275\n",
      "Average bias: 28.262437859529435\n",
      "Average variance: 0.8775870805133246\n"
     ]
    }
   ],
   "source": [
    "model = ElasticNet(alpha=0.5, l1_ratio=0.5, random_state=123)\n",
    "avg_expected_loss, avg_bias, avg_var = bias_variance_decomp(model, X_train, y_train, X_test, y_test, loss='mse', random_seed=22)\n",
    "\n",
    "print('Average expected loss',avg_expected_loss)\n",
    "print('Average bias:' ,avg_bias)\n",
    "print('Average variance:', avg_var)"
   ]
  },
  {
   "attachments": {},
   "cell_type": "markdown",
   "metadata": {},
   "source": [
    "# Ridge with polynomial transformtion"
   ]
  },
  {
   "cell_type": "code",
   "execution_count": 56,
   "metadata": {},
   "outputs": [
    {
     "name": "stdout",
     "output_type": "stream",
     "text": [
      "Average expected loss 21.564388894600988\n",
      "Average bias: 14.228349166807696\n",
      "Average variance: 7.336039727793293\n"
     ]
    }
   ],
   "source": [
    "### aplying elastic net with polynomial regression \n",
    "from sklearn.preprocessing import StandardScaler \n",
    "\n",
    "#scaing the data \n",
    "sclae=StandardScaler()\n",
    "X_train_std=sclae.fit_transform(X_train)\n",
    "X_test_std=sclae.transform(X_test)\n",
    "\n",
    "# aplying polynomial\n",
    "polynomial_features = PolynomialFeatures(degree=2, include_bias=True)\n",
    "X_train_poly = polynomial_features.fit_transform(X_train_std)\n",
    "X_test_poly = polynomial_features.transform(X_test_std)\n",
    "\n",
    "model = Ridge(alpha=1.5)\n",
    "avg_expected_loss, avg_bias, avg_var = bias_variance_decomp(model, X_train_poly, y_train, X_test_poly, y_test, loss='mse', random_seed=22)\n",
    "\n",
    "print('Average expected loss',avg_expected_loss)\n",
    "print('Average bias:' ,avg_bias)\n",
    "print('Average variance:', avg_var)\n"
   ]
  },
  {
   "cell_type": "code",
   "execution_count": 58,
   "metadata": {},
   "outputs": [
    {
     "name": "stdout",
     "output_type": "stream",
     "text": [
      "r2_score 0.8221538678078824\n"
     ]
    }
   ],
   "source": [
    "model.fit(X_train_poly,y_train)\n",
    "y_pred=model.predict(X_test_poly)\n",
    "print('r2_score',r2_score(y_test,y_pred))\n"
   ]
  },
  {
   "cell_type": "code",
   "execution_count": 62,
   "metadata": {},
   "outputs": [
    {
     "name": "stdout",
     "output_type": "stream",
     "text": [
      "r2_score 0.7665241262664991\n"
     ]
    }
   ],
   "source": [
    "# linear regression \n",
    "\n",
    "lr=LinearRegression()\n",
    "lr.fit(X_train_poly,y_train)\n",
    "y_pred=lr.predict(X_test_poly)\n",
    "\n",
    "print('r2_score',r2_score(y_test,y_pred))\n"
   ]
  }
 ],
 "metadata": {
  "kernelspec": {
   "display_name": "Python 3",
   "language": "python",
   "name": "python3"
  },
  "language_info": {
   "codemirror_mode": {
    "name": "ipython",
    "version": 3
   },
   "file_extension": ".py",
   "mimetype": "text/x-python",
   "name": "python",
   "nbconvert_exporter": "python",
   "pygments_lexer": "ipython3",
   "version": "3.10.7"
  },
  "orig_nbformat": 4
 },
 "nbformat": 4,
 "nbformat_minor": 2
}
