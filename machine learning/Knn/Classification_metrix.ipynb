{
 "cells": [
  {
   "attachments": {},
   "cell_type": "markdown",
   "metadata": {},
   "source": [
    "# <span style='color:Pink'> Accuracy"
   ]
  },
  {
   "attachments": {},
   "cell_type": "markdown",
   "metadata": {},
   "source": [
    "Accuracy is a fundamental metric used to assess the performance of a classification model. It measures the proportion of correctly classified instances out of the total number of instances in a dataset. In other words, it tells us how often the model's predictions are correct.\n",
    " > example:- \n",
    " Imagine you have a dataset with 100 instances, and you apply a classification model to predict the class labels for these instances. The model correctly predicts 85 instances, while it makes mistakes on the remaining 15 instances. The accuracy of the model can be calculated by dividing the number of correctly predicted instances (85) by the total number of instances (100), which gives us an accuracy of 85%."
   ]
  },
  {
   "attachments": {},
   "cell_type": "markdown",
   "metadata": {},
   "source": [
    "<b> Confusion matrix"
   ]
  },
  {
   "attachments": {},
   "cell_type": "markdown",
   "metadata": {},
   "source": [
    "|                | Predicted Positive | Predicted Negative |\n",
    "|----------------|--------------------|--------------------|\n",
    "| Actual Positive| TP                 | FN                 |\n",
    "| Actual Negative| FP                 | TN                 |"
   ]
  },
  {
   "attachments": {},
   "cell_type": "markdown",
   "metadata": {},
   "source": [
    "Mathematically, accuracy is defined as:\n",
    "\n",
    "\n",
    "$ Accuracy = \\frac{Correct\\_prediction}{Total\\_prediction} $\n",
    "```\n",
    "\n",
    "This formula calculates the ratio of correct predictions to the total number of predictions made by the model. A higher accuracy means that the model is more reliable and accurate.\n",
    "```\n",
    "$Accuracy = (TP + TN) / (TP + TN + FP + FN)$\n",
    "\n",
    "where:\n",
    "\n",
    "- TP refers to the number of true positives, i.e., the instances that are correctly predicted as positive.\n",
    "- TN refers to the number of true negatives, i.e., the instances that are correctly predicted as negative.\n",
    "- FP refers to the number of false positives, i.e., the instances that are incorrectly predicted as positive when they are actually negative.\n",
    "- FN refers to the number of false negatives, i.e., the instances that are incorrectly predicted as negative when they are actually positive."
   ]
  },
  {
   "cell_type": "code",
   "execution_count": 1,
   "metadata": {},
   "outputs": [],
   "source": [
    "from sklearn.neighbors import KNeighborsClassifier\n",
    "from sklearn.datasets import make_classification\n",
    "from sklearn.metrics import accuracy_score , precision_score, recall_score,f1_score\n",
    "from sklearn.model_selection import train_test_split \n",
    "import numpy as np  "
   ]
  },
  {
   "cell_type": "code",
   "execution_count": 3,
   "metadata": {},
   "outputs": [],
   "source": [
    "X,y=make_classification(n_samples=1000,n_features=20,n_informative=10,n_classes=2,random_state=32)"
   ]
  },
  {
   "cell_type": "code",
   "execution_count": 4,
   "metadata": {},
   "outputs": [],
   "source": [
    "X_train,X_test,y_train,y_test=train_test_split(X,y,train_size=0.7,random_state=32)"
   ]
  },
  {
   "cell_type": "code",
   "execution_count": 10,
   "metadata": {},
   "outputs": [],
   "source": [
    "k_value = [i for i in range (1,20,2)]\n",
    "score=[]\n",
    "prediction=[]\n",
    "for k in (k_value):\n",
    "    knn=KNeighborsClassifier(n_neighbors=k)\n",
    "    knn.fit(X_train,y_train)\n",
    "    score.append(knn.score(X_test,y_test))\n",
    "    prediction.append(knn.predict(X_test))\n"
   ]
  },
  {
   "cell_type": "code",
   "execution_count": 11,
   "metadata": {},
   "outputs": [
    {
     "data": {
      "text/plain": [
       "[0.8766666666666667,\n",
       " 0.92,\n",
       " 0.9066666666666666,\n",
       " 0.9033333333333333,\n",
       " 0.91,\n",
       " 0.92,\n",
       " 0.91,\n",
       " 0.9166666666666666,\n",
       " 0.9133333333333333,\n",
       " 0.92]"
      ]
     },
     "execution_count": 11,
     "metadata": {},
     "output_type": "execute_result"
    }
   ],
   "source": [
    "score"
   ]
  },
  {
   "cell_type": "code",
   "execution_count": 14,
   "metadata": {},
   "outputs": [
    {
     "name": "stdout",
     "output_type": "stream",
     "text": [
      "0.8766666666666667\n",
      "0.92\n",
      "0.9066666666666666\n",
      "0.9033333333333333\n",
      "0.91\n",
      "0.92\n",
      "0.91\n",
      "0.9166666666666666\n",
      "0.9133333333333333\n",
      "0.92\n"
     ]
    }
   ],
   "source": [
    "for i in prediction:\n",
    "    accuracy=accuracy_score(i,y_test)\n",
    "    print(accuracy)"
   ]
  },
  {
   "cell_type": "code",
   "execution_count": null,
   "metadata": {},
   "outputs": [],
   "source": [
    "# manual calculation of accuracy \n",
    "accuracy_manual = sum(y_pred == y_test) / len(y_test)\n",
    "print(\"Accuracy (manual):\", accuracy_manual)"
   ]
  },
  {
   "attachments": {},
   "cell_type": "markdown",
   "metadata": {},
   "source": [
    "#### when accuracy is fail "
   ]
  },
  {
   "attachments": {},
   "cell_type": "markdown",
   "metadata": {},
   "source": [
    "Imbalanced Datasets:\n",
    "\n",
    "In many real-world classification problems, the distribution of classes in the dataset is often imbalanced. This means that one class may have a significantly larger number of instances than the other class. For instance, consider a medical diagnosis task where only a small percentage of patients have a rare disease.\n",
    "\n",
    "In such cases, a classification model that simply predicts the majority class for all instances can achieve a high accuracy, even though it fails to identify the minority class correctly. This is because the majority class dominates the accuracy calculation. Consequently, accuracy can give a misleading impression of the model's performance, especially when the focus is on correctly identifying the minority class."
   ]
  },
  {
   "attachments": {},
   "cell_type": "markdown",
   "metadata": {},
   "source": [
    "consider a dummy dataset with two classes, where Class A has 950 instances and Class B has only 50 instances. We'll create a simple model that predicts the majority class (Class A) for all instances."
   ]
  },
  {
   "cell_type": "code",
   "execution_count": 25,
   "metadata": {},
   "outputs": [
    {
     "name": "stdout",
     "output_type": "stream",
     "text": [
      "Accuracy: 0.9\n",
      "confusion metrix [[149   3]\n",
      " [ 17  31]]\n"
     ]
    }
   ],
   "source": [
    "import numpy as np\n",
    "from sklearn.datasets import make_classification\n",
    "from sklearn.model_selection import train_test_split\n",
    "from sklearn.neighbors import KNeighborsClassifier\n",
    "from sklearn.metrics import accuracy_score,confusion_matrix\n",
    "\n",
    "# Generate an imbalanced dataset\n",
    "X, y = make_classification(n_samples=1000, n_features=10, weights=[0.8, 0.2], random_state=42)\n",
    "\n",
    "X_train, X_test, y_train, y_test = train_test_split(X, y, test_size=0.2, random_state=42)\n",
    "\n",
    "# Create and fit the KNN classifier\n",
    "knn = KNeighborsClassifier(n_neighbors=5)\n",
    "knn.fit(X_train, y_train)\n",
    "\n",
    "# Make predictions on the test set\n",
    "y_pred = knn.predict(X_test)\n",
    "accuracy = accuracy_score(y_test, y_pred)\n",
    "confusion_metrixs=confusion_matrix(y_test,y_pred)\n",
    "print(\"Accuracy:\", accuracy)\n",
    "print(\"confusion metrix\",confusion_metrixs)\n",
    "\n"
   ]
  },
  {
   "attachments": {},
   "cell_type": "markdown",
   "metadata": {},
   "source": [
    "#### mulilevel calssification confusion metrix"
   ]
  },
  {
   "cell_type": "code",
   "execution_count": 40,
   "metadata": {},
   "outputs": [
    {
     "name": "stdout",
     "output_type": "stream",
     "text": [
      "Best k value: 3\n",
      "multilevel_confusion_matrix \n",
      " [[[26  0]\n",
      "  [ 0 19]]\n",
      "\n",
      " [[32  0]\n",
      "  [ 0 13]]\n",
      "\n",
      " [[32  0]\n",
      "  [ 0 13]]]\n",
      "confusion_matrix [[19  0  0]\n",
      " [ 0 13  0]\n",
      " [ 0  0 13]]\n"
     ]
    }
   ],
   "source": [
    "from sklearn.datasets import load_iris\n",
    "from sklearn.metrics import multilabel_confusion_matrix ,confusion_matrix\n",
    "from sklearn.preprocessing import StandardScaler\n",
    "from sklearn.model_selection import cross_val_score\n",
    "\n",
    "iris = load_iris()\n",
    "X = iris.data\n",
    "y = iris.target\n",
    "# Split the data into training and test sets\n",
    "X_train, X_test, y_train, y_test = train_test_split(X, y, test_size=0.3, random_state=42)\n",
    "\n",
    "scaler=StandardScaler()\n",
    "X_train=scaler.fit_transform(X_train)\n",
    "X_test=scaler.transform(X_test)\n",
    "\n",
    "# Define a range of k values to try\n",
    "k_values = np.arange(2,round(np.sqrt(len(X_train)),0).astype(int))\n",
    "\n",
    "# Perform cross-validation for each k value\n",
    "mean_scores = []\n",
    "for k in k_values:\n",
    "    knn = KNeighborsClassifier(n_neighbors=k)\n",
    "    scores = cross_val_score(knn, X_train, y_train, cv=5)\n",
    "    mean_scores.append(scores.mean())\n",
    "\n",
    "'''# Print the mean scores for each k value\n",
    "for k, score in zip(k_values, mean_scores):\n",
    "    print(\"Mean Accuracy for k =\", k, \":\", score)'''\n",
    "\n",
    "# Find the best k value\n",
    "best_k = k_values[mean_scores.index(max(mean_scores))]\n",
    "print(\"Best k value:\", best_k)\n",
    "\n",
    "# Train the final KNN model with the best k value\n",
    "knn = KNeighborsClassifier(n_neighbors=best_k)#use best_k\n",
    "knn.fit(X_train, y_train)\n",
    "y_pred=knn.predict(X_test)\n",
    "print('multilevel_confusion_matrix \\n',multilabel_confusion_matrix(y_test,y_pred))\n",
    "print('confusion_matrix',confusion_matrix(y_test,y_pred))\n",
    "\n",
    "confusion_metrixs=confusion_matrix(y_test,y_pred)\n",
    "\n",
    "\n",
    "\n"
   ]
  },
  {
   "attachments": {},
   "cell_type": "markdown",
   "metadata": {},
   "source": [
    "multilevel_confusion_matrix \n",
    "\n",
    " [[[26  0]\n",
    "  [ 0 19]]\n",
    "  \n",
    " [[32  0]\n",
    "\n",
    "  [ 0 13]]\n",
    "\n",
    " [[32  0]\n",
    "\n",
    "  [ 0 13]]]\n",
    "\n",
    "  Tn-26 and Tp-19 \n",
    "  "
   ]
  },
  {
   "cell_type": "code",
   "execution_count": 43,
   "metadata": {},
   "outputs": [
    {
     "data": {
      "image/png": "[encoded data removed]",
      "text/plain": [
       "<Figure size 432x288 with 2 Axes>"
      ]
     },
     "metadata": {
      "needs_background": "light"
     },
     "output_type": "display_data"
    }
   ],
   "source": [
    "import seaborn as sns\n",
    "import matplotlib.pyplot as plt\n",
    "\n",
    "\n",
    "# Create a heat map using seaborn\n",
    "sns.heatmap(confusion_metrixs, annot=True, fmt='d', cmap='Blues', xticklabels=classes, yticklabels=classes)\n",
    "\n",
    "# Set labels and title\n",
    "plt.xlabel('Predicted Class')\n",
    "plt.ylabel('Actual Class')\n",
    "plt.title('Confusion Matrix')\n",
    "\n",
    "# Display the plot\n",
    "plt.show()\n"
   ]
  },
  {
   "attachments": {},
   "cell_type": "markdown",
   "metadata": {},
   "source": [
    "# Precision "
   ]
  },
  {
   "attachments": {},
   "cell_type": "markdown",
   "metadata": {},
   "source": [
    "Precision is a performance metric that measures the accuracy of positive predictions made by a classification model. It focuses on the proportion of correctly predicted positive instances out of all instances predicted as positive."
   ]
  },
  {
   "attachments": {},
   "cell_type": "markdown",
   "metadata": {},
   "source": [
    "> simply understand :-\n",
    "Precision can be understood as the measure of how \"precise\" or accurate a model is when it predicts the positive class. It tells us the percentage of positive predictions that are truly positive"
   ]
  },
  {
   "attachments": {},
   "cell_type": "markdown",
   "metadata": {},
   "source": [
    "Mathematically, precision is defined as the ratio of true positives (TP) to the sum of true positives and false positives (FP):\n",
    "\n",
    "$ Precision = TP / (TP + FP)$"
   ]
  },
  {
   "cell_type": "code",
   "execution_count": 50,
   "metadata": {},
   "outputs": [
    {
     "name": "stdout",
     "output_type": "stream",
     "text": [
      "Precision: 0.8333333333333334\n"
     ]
    }
   ],
   "source": [
    "from sklearn.metrics import precision_score\n",
    "\n",
    "actual_labels = [1, 0, 0, 1, 1, 1, 0, 1, 0, 1]  # Actual labels\n",
    "predicted_labels = [1, 1, 0, 1, 0, 1, 0, 1, 0, 1]  # Predicted labels\n",
    "\n",
    "precision = precision_score(actual_labels, predicted_labels,average=None)\n",
    "\n",
    "print(\"Precision:\", precision)\n"
   ]
  },
  {
   "attachments": {},
   "cell_type": "markdown",
   "metadata": {},
   "source": [
    "Precision: [0.75       0.83333333] 0.75 is negative of true positve and 0.83 presion of Positive"
   ]
  },
  {
   "cell_type": "code",
   "execution_count": 47,
   "metadata": {},
   "outputs": [
    {
     "name": "stdout",
     "output_type": "stream",
     "text": [
      "[[3 1 0]\n",
      " [1 2 0]\n",
      " [0 1 2]]\n",
      "Precision for Each Class: [0.75 0.5  1.  ]\n",
      "Precision for Each Class: 0.75\n"
     ]
    }
   ],
   "source": [
    "from sklearn.metrics import precision_score,confusion_matrix\n",
    "# dummie levels \n",
    "actual_labels = [1, 2, 1, 1, 3, 2, 1, 3, 2, 3]  # Actual labels\n",
    "predicted_labels = [1, 2, 1, 1, 3, 1, 2, 2, 2, 3]  # Predicted labels\n",
    "\n",
    "precision = precision_score(actual_labels, predicted_labels, average=None)\n",
    "precision1 = precision_score(actual_labels, predicted_labels, average='macro')\n",
    "print(confusion_matrix(actual_labels,predicted_labels))\n",
    "print(\"Precision for Each Class:\", precision)\n",
    "print(\"Precision for Each Class:\", precision1)"
   ]
  },
  {
   "attachments": {},
   "cell_type": "markdown",
   "metadata": {},
   "source": [
    "# different average method \n"
   ]
  },
  {
   "cell_type": "code",
   "execution_count": 70,
   "metadata": {},
   "outputs": [],
   "source": [
    "from sklearn.metrics import confusion_matrix,precision_score\n",
    "y_true = np.array([1, 1, 1, 1, 1, 1, 1, 1, 1, 1,\n",
    "                   2, 2, 2, 2, 2, 2, 2, 2, 2, 2,\n",
    "                   3, 3, 3, 3, 3, 3, 3, 3, 3, 3])\n",
    "\n",
    "y_pred = np.array([1, 1, 1, 1, 1, 2, 2, 2, 2, 3,\n",
    "                   1, 2, 2, 2, 2, 2, 2, 2, 2, 2,\n",
    "                   3, 3, 3, 3, 3, 3, 3, 3, 3, 2])\n",
    "\n",
    "# Calculate the confusion matrix\n",
    "cm =confusion_matrix(y_true, y_pred, labels=[1, 2, 3])"
   ]
  },
  {
   "cell_type": "code",
   "execution_count": 67,
   "metadata": {},
   "outputs": [
    {
     "data": {
      "text/plain": [
       "array([[5, 4, 1],\n",
       "       [1, 9, 0],\n",
       "       [0, 1, 9]], dtype=int64)"
      ]
     },
     "execution_count": 67,
     "metadata": {},
     "output_type": "execute_result"
    }
   ],
   "source": [
    "cm"
   ]
  },
  {
   "cell_type": "code",
   "execution_count": 73,
   "metadata": {},
   "outputs": [
    {
     "data": {
      "text/plain": [
       "array([0.83333333, 0.64285714, 0.9       ])"
      ]
     },
     "execution_count": 73,
     "metadata": {},
     "output_type": "execute_result"
    }
   ],
   "source": [
    "#none\n",
    "precision_score(y_true,y_pred,average=None)"
   ]
  },
  {
   "cell_type": "code",
   "execution_count": 74,
   "metadata": {},
   "outputs": [
    {
     "data": {
      "text/plain": [
       "0.7666666666666667"
      ]
     },
     "execution_count": 74,
     "metadata": {},
     "output_type": "execute_result"
    }
   ],
   "source": [
    "#micro\n",
    "precision_score(y_true,y_pred,average='micro')\n"
   ]
  },
  {
   "cell_type": "code",
   "execution_count": 75,
   "metadata": {},
   "outputs": [
    {
     "data": {
      "text/plain": [
       "0.792063492063492"
      ]
     },
     "execution_count": 75,
     "metadata": {},
     "output_type": "execute_result"
    }
   ],
   "source": [
    "#macro\n",
    "precision_score(y_true,y_pred,average='macro')"
   ]
  },
  {
   "cell_type": "code",
   "execution_count": 78,
   "metadata": {},
   "outputs": [
    {
     "data": {
      "text/plain": [
       "0.7920634920634921"
      ]
     },
     "execution_count": 78,
     "metadata": {},
     "output_type": "execute_result"
    }
   ],
   "source": [
    "#weighted\n",
    "precision_score(y_true,y_pred,average='weighted')"
   ]
  },
  {
   "attachments": {},
   "cell_type": "markdown",
   "metadata": {},
   "source": [
    "| Average Type | Use Case |\n",
    "| ------------ | -------- |\n",
    "| Macro Average | Use when you want to give equal importance to each class. |\n",
    "| Micro Average | Use when you want to emphasize the overall performance of the model. |\n",
    "| Weighted Average | Use when you want to consider class imbalance and give more weight to classes with more instances. |"
   ]
  },
  {
   "attachments": {},
   "cell_type": "markdown",
   "metadata": {},
   "source": [
    "# Recall "
   ]
  },
  {
   "attachments": {},
   "cell_type": "markdown",
   "metadata": {},
   "source": [
    "Recall, also known as sensitivity or true positive rate, is a performance metric that measures the ability of a classifier to identify all positive instances correctly. It focuses on the proportion of actual positive instances that are correctly identified by the model."
   ]
  }
 ],
 "metadata": {
  "kernelspec": {
   "display_name": "Python 3",
   "language": "python",
   "name": "python3"
  },
  "language_info": {
   "codemirror_mode": {
    "name": "ipython",
    "version": 3
   },
   "file_extension": ".py",
   "mimetype": "text/x-python",
   "name": "python",
   "nbconvert_exporter": "python",
   "pygments_lexer": "ipython3",
   "version": "3.10.7"
  },
  "orig_nbformat": 4
 },
 "nbformat": 4,
 "nbformat_minor": 2
}
